{
 "cells": [
  {
   "attachments": {},
   "cell_type": "markdown",
   "metadata": {},
   "source": [
    "# Damir Nabiullin (d.nabiullin@innopolis.university) - Assignment 2"
   ]
  },
  {
   "cell_type": "markdown",
   "metadata": {},
   "source": [
    "# 1. Measure and improve\n",
    "\n",
    "How do we know that search engine's quality improved (or at least haven't deteriorated) because of our changes?\n",
    "\n",
    "All we need is a way to ***evaluate*** our search engine. We will consider some of the popular evaluation techniques:\n",
    "\n",
    "1. Mean Average Precision\n",
    "2. 11-Point Interpolated Average\n",
    "3. Normalized Discounted Cumulative Gain (NDCG)\n",
    "4. pFound\n",
    "\n",
    "<!--We will apply them in the context of ranking with language models and will compare two ways of smoothing: additive and Jelinek-Mercer smoothing.\n",
    "-->\n",
    "\n",
    "It's best to go through the [book](https://nlp.stanford.edu/IR-book/pdf/irbookonlinereading.pdf) *chapter 8*, concretely, *8.4* to understand the key concepts of this lab. Here we will only present some excerpts from it."
   ]
  },
  {
   "cell_type": "markdown",
   "metadata": {},
   "source": [
    "## 1.1. [10] Mean Average Precision\n",
    "\n",
    "The most standard metric among the TREC community is *Mean Average Precision* *(MAP)*, which provides a single-figure measure of quality across recall levels. Among evaluation measures, MAP has been shown to have especially good discrimination and stability. For a single information need, Average Precision is the average of the precision value obtained for the set of top $k$ documents existing\n",
    "after each relevant document is retrieved, and this value is then averaged over information needs (queries). \n",
    "Assume we have a bucket $Q$ of queries $q_j\\in Q$.\n",
    "If the set of **relevant documents** for an information need (query) $q_j$ is {d<sub>1</sub>, . . . d<sub>m<sub>j</sub></sub>} and R<sub>jk</sub> is the set of ranked retrieval results from the top result until you get to document d<sub>k</sub>, then\n",
    "\n",
    "![](https://i.imgur.com/EGQMHVq.png)\n",
    "\n",
    "Implement this metric in the `mean_avg_precision` function.\n",
    "\n",
    "**NB** Don't make the name of [the metric confuse you](https://towardsdatascience.com/breaking-down-mean-average-precision-map-ae462f623a52). *Average Precision* is the term, which corresponds to the area under precision-recall curve. It's computation is tricky. We suggest to start with implementing [$AveP$](https://en.wikipedia.org/wiki/Evaluation_measures_(information_retrieval)#Average_precision)."
   ]
  },
  {
   "cell_type": "code",
   "execution_count": 1,
   "metadata": {},
   "outputs": [],
   "source": [
    "def mean_avg_precision(search_results, relevance):\n",
    "    # I used formulas represented in\n",
    "    # https://web.stanford.edu/class/cs276/handouts/EvaluationNew-handout-1-per.pdf\n",
    "\n",
    "    avg_precisions = []\n",
    "\n",
    "    for query_n in range(len(search_results)):\n",
    "        # Prepare initial values\n",
    "        query = search_results[query_n]\n",
    "        relevant = [r for r, _ in relevance[query_n + 1]]\n",
    "        avg_q_precision = 0\n",
    "        relevant_count = 0\n",
    "\n",
    "        # Calculate average precision\n",
    "        for doc_n in range(len(query)):\n",
    "            if query[doc_n] in relevant:\n",
    "                relevant_count += 1\n",
    "                avg_q_precision += relevant_count / (doc_n + 1)\n",
    "\n",
    "        avg_q_precision /= len(relevant)\n",
    "        avg_precisions.append(avg_q_precision)\n",
    "    \n",
    "    return sum(avg_precisions) / len(avg_precisions)"
   ]
  },
  {
   "cell_type": "markdown",
   "metadata": {},
   "source": [
    "### 1.1.1. Tests"
   ]
  },
  {
   "cell_type": "code",
   "execution_count": 2,
   "metadata": {},
   "outputs": [
    {
     "name": "stdout",
     "output_type": "stream",
     "text": [
      "map_test 0.6464285714285715\n"
     ]
    }
   ],
   "source": [
    "import numpy as np\n",
    "\n",
    "test_relevance = {1: [(9, 1), (1, 2), (8, 3)], 2: [(5, 1), (9, 2), (6, 3)], \n",
    "                  3: [(9, 1), (4, 2), (6, 3)], 4: [(10, 1), (4, 2), (7, 3)], \n",
    "                  5: [(4, 1), (2, 2), (8, 3)], 6: [(2, 1), (9, 2), (4, 3)], \n",
    "                  7: [(1, 1), (2, 2), (3, 3)], 8: [(3, 1), (2, 2), (6, 3)], \n",
    "                  9: [(1, 1), (4, 2), (3, 3)], 10: [(10, 1), (7, 2), (8, 3)]}\n",
    "test_results = [[4, 5, 3, 6, 1, 2, 8, 9, 10, 7], [7, 5, 6, 3, 1, 8, 9, 4, 2, 10], \n",
    "                [8, 3, 4, 5, 9, 6, 1, 10, 2, 7], [4, 5, 7, 3, 6, 10, 1, 9, 2, 8], \n",
    "                [4, 8, 3, 5, 6, 7, 2, 1, 10, 9], [9, 7, 6, 5, 2, 4, 10, 1, 3, 8], \n",
    "                [3, 1, 5, 2, 10, 6, 7, 9, 8, 4], [9, 2, 4, 10, 8, 3, 7, 6, 1, 5], \n",
    "                [3, 4, 6, 1, 5, 10, 7, 2, 8, 9], [8, 10, 4, 1, 3, 7, 5, 6, 9, 2]]\n",
    "\n",
    "\n",
    "map_test = mean_avg_precision(test_results, test_relevance)\n",
    "print(\"map_test\", map_test)\n",
    "assert np.isclose(map_test, 0.646, atol=1e-03)\n",
    "assert mean_avg_precision(test_results[:5], test_relevance) > mean_avg_precision(test_results[5:10], test_relevance)"
   ]
  },
  {
   "cell_type": "markdown",
   "metadata": {},
   "source": [
    "## 1.2. [15] 11-Point Interpolated Average\n",
    "\n",
    "In a ranked retrieval context, appropriate sets of retrieved documents are naturally given by the top k retrieved documents. For each such set, precision and recall values can be plotted to give a precision-recall curve, such as this one (blue line):\n",
    "\n",
    "![](https://i.imgur.com/QnvDLAJ.png)\n",
    "\n",
    "Precision-recall curves have a distinctive saw-tooth shape: if the *(k + 1)<sup>th</sup>* document retrieved is nonrelevant then recall is the same as for the top k documents, but precision has dropped. If it is relevant, then both precision and recall increase, and the curve jags up and to the right.\n",
    "\n",
    "It is often useful to remove these jiggles and the standard way to do this is with an *interpolated precision*: the interpolated precision *p<sub>interp</sub>* at a certain recall level *r* is defined as the highest precision found for any recall level *r′* ≥ *r*:\n",
    "\n",
    "![](https://i.imgur.com/GMl2rQw.png)\n",
    "\n",
    "The justification is that almost anyone would be prepared to look at a few more documents if it would increase the percentage of the viewed set that were relevant (that is, if the precision of the larger set is higher). Interpolated precision is shown by a red line in the figure above.\n",
    "\n",
    "Examining this information for a single query may be useful, but usually we are more interested in a composite metrics, which will score over all test queries. The traditional way of doing this is the *11-point interpolated average*. For each information need, the interpolated precision is measured at the 11 recall levels of 0.0, 0.1, 0.2, . . . , 1.0. Then we average interpolated precision over all queries in the test collection and plot, like here:\n",
    "\n",
    "![](https://i.imgur.com/6wDmtp2.png)\n",
    "\n",
    "\n",
    "Plotting a number of such graphs for different versions of search engine on the same plot helps to compare their performance.\n",
    "\n",
    "You need to incorporate this logic into `eleven_points_interpolated_avg` function. Break it down to subfuctions as it seems necessary to you."
   ]
  },
  {
   "cell_type": "code",
   "execution_count": 3,
   "metadata": {},
   "outputs": [],
   "source": [
    "import numpy as np\n",
    "import matplotlib.pyplot as plt\n",
    "\n",
    "def eleven_points_interpolated_avg(search_results, relevance, plot=True):\n",
    "    # Prepare initial values\n",
    "    interp_recall = np.linspace(0, 1, num=11)\n",
    "    interp_precisions = []\n",
    "    avg_interp_precision = []\n",
    "    debug = False\n",
    "\n",
    "    for query_n in range(len(search_results)):\n",
    "        # Prepare initial values\n",
    "        query = search_results[query_n]\n",
    "        relevant = [r for r, _ in relevance[query_n + 1]]\n",
    "        precision = []\n",
    "        recall = []\n",
    "        relevant_count = 0\n",
    "\n",
    "        # Calculate precision-recall\n",
    "        for doc_n in range(len(query)):\n",
    "            if query[doc_n] in relevant:\n",
    "                relevant_count += 1\n",
    "                \n",
    "            recall.append(relevant_count / len(relevant))\n",
    "            precision.append(relevant_count / (doc_n + 1))\n",
    "            \n",
    "        # Calculate interpolated precision\n",
    "        interp_precision = []\n",
    "        j = 0\n",
    "        \n",
    "        for i in range(len(interp_recall)):\n",
    "            while recall[j] < interp_recall[i]:\n",
    "                j += 1\n",
    "            interp_precision.append(max(precision[j:]))\n",
    "\n",
    "        interp_precisions.append(interp_precision)\n",
    "\n",
    "        # Debug output (more graphs)\n",
    "        if debug and plot:\n",
    "            print(recall)\n",
    "            print(precision)\n",
    "            print(interp_precision)\n",
    "            print('-------------------')\n",
    "            # Plot each query precision_recal\n",
    "            plt.figure(figsize=(5, 50))\n",
    "            plt.subplot(len(search_results), 1, query_n + 1)\n",
    "            plt.plot(recall, precision, '--b')\n",
    "            plt.plot(recall, precision, '-r')\n",
    "            plt.plot(interp_recall, interp_precision, 'y')\n",
    "            plt.show()\n",
    "            \n",
    "    avg_interp_precision = np.average(interp_precisions, axis=0)\n",
    "    \n",
    "    if plot:\n",
    "        plt.ylim(0, 1)\n",
    "        plt.plot(interp_recall, avg_interp_precision)\n",
    "    \n",
    "    return []"
   ]
  },
  {
   "cell_type": "markdown",
   "metadata": {},
   "source": [
    "### 1.2.1.Tests"
   ]
  },
  {
   "cell_type": "code",
   "execution_count": 4,
   "metadata": {},
   "outputs": [
    {
     "data": {
      "image/png": "[encoded data removed]",
      "text/plain": [
       "<Figure size 640x480 with 1 Axes>"
      ]
     },
     "metadata": {},
     "output_type": "display_data"
    }
   ],
   "source": [
    "eleven_test = eleven_points_interpolated_avg(test_results, test_relevance, plot=True)\n",
    "assert all(eleven_test[k] >= eleven_test[k+1] for k in range(len(eleven_test)-1))"
   ]
  },
  {
   "cell_type": "markdown",
   "metadata": {},
   "source": [
    "## 1.3. [10] Normalized Discounted Cumulative Gain\n",
    "\n",
    "NDCG metric is designed for situations of non-binary notions of relevance. It is evaluated over some number $k$ of top search results (in our case we will evaluate over the whole dataset, since it is small). \n",
    "\n",
    "For a set of queries $Q$, let $R(j,d)$ be the relevance score assessors gave to document $d$ for query $j$. Then,\n",
    "\n",
    "![](https://i.imgur.com/LLogCYa.png)\n",
    "\n",
    "where $Z_{kj}$ is a normalization factor calculated to make it so that a perfect ranking’s NDCG at $k$ for query $j$ is 1. In other words, we divide calculated DCG score by ideal DCG score. \n",
    "\n",
    "Implement this metric in `NDCG` function."
   ]
  },
  {
   "cell_type": "code",
   "execution_count": 5,
   "metadata": {},
   "outputs": [],
   "source": [
    "from math import log2 \n",
    "\n",
    "def NDCG(search_results, relevance):\n",
    "    # I used formulas represented in\n",
    "    # https://web.stanford.edu/class/cs276/handouts/EvaluationNew-handout-1-per.pdf \n",
    "    \n",
    "    ndcg_complete = 0\n",
    "\n",
    "    for query_n in range(len(search_results)):\n",
    "        query = search_results[query_n]\n",
    "        q_relevant = dict()\n",
    "\n",
    "        # Convert scores from test to correct ones\n",
    "        for i in query:\n",
    "            q_relevant[i] = 0  # or 0?\n",
    "\n",
    "        for r, s in relevance[query_n + 1]:\n",
    "            q_relevant[r] = 5 - s\n",
    "\n",
    "        # Get ordered relevance for dcg and idcg\n",
    "        relevant= [q_relevant[q] for q in query]\n",
    "        i_relevant = sorted(relevant, reverse=True)\n",
    "\n",
    "        # Calculate dcg and idcg\n",
    "        dcg = 0\n",
    "        idcg = 0\n",
    "\n",
    "        for m in range(len(relevant)):\n",
    "            dcg += (2**relevant[m] - 1) / log2(m + 2)\n",
    "            idcg += (2**i_relevant[m] - 1) / log2(m + 2)\n",
    "\n",
    "        ndcg = dcg / idcg\n",
    "        ndcg_complete += ndcg\n",
    "\n",
    "    ndcg_complete /= len(search_results)\n",
    "    \n",
    "    return ndcg_complete"
   ]
  },
  {
   "cell_type": "markdown",
   "metadata": {},
   "source": [
    "### 1.3.1. Tests"
   ]
  },
  {
   "cell_type": "code",
   "execution_count": 6,
   "metadata": {},
   "outputs": [
    {
     "name": "stdout",
     "output_type": "stream",
     "text": [
      "ndcg_test 0.6409675295633275\n"
     ]
    }
   ],
   "source": [
    "ndcg_test = NDCG(test_results, test_relevance)\n",
    "print(\"ndcg_test\", ndcg_test)\n",
    "assert np.isclose(ndcg_test, 0.640, atol=1e-03)\n",
    "assert NDCG(test_results[:5], test_relevance) < NDCG(test_results[5:10], test_relevance)"
   ]
  },
  {
   "cell_type": "markdown",
   "metadata": {},
   "source": [
    "## 1.4. [15] pFound ## \n",
    "**pFound** -- ranking metric invented in [Yandex](http://romip.ru/romip2009/15_yandex.pdf). This metric models user behaviour when looking at the search engine representation page (SERP). Metric assumes a user is inspecting a list from the top to the bottom. There are 2 global parameters, controlling behaviour:\n",
    "- `pBreak` -- how probable, that the user will become tired and just quit at this position (`0.15` by default).\n",
    "- `pRel` -- how probable the user will click the document if this document is relevant (`0.4` by default for a relevan document, `0` is given to irrelevant).\n",
    "\n",
    "Then, to compute pFound for the exact page we do:\n",
    "\n",
    "$pLook_i = pLook_{i-1}*(1 - pBreak)*(1 - pRel_{i-1})$\n",
    "\n",
    "$pFound = \\sum_{i=1}^{N}pLook_i*pRel_i$\n",
    "\n",
    "Implement `pFound` below."
   ]
  },
  {
   "cell_type": "code",
   "execution_count": 7,
   "metadata": {},
   "outputs": [],
   "source": [
    "import math \n",
    "\n",
    "def pFound(search_results, relevance):\n",
    "    # I used formulas represented in\n",
    "    # https://moodle.innopolis.university/pluginfile.php/168923/mod_resource/content/0/IR04.%20Quality%20assessment.pdf\n",
    "\n",
    "    pBreak = 0.15\n",
    "    pRel = 0.4\n",
    "    pFounds = []\n",
    "\n",
    "    for query_n in range(len(search_results)):\n",
    "        # Prepare initial values\n",
    "        query = search_results[query_n]\n",
    "        relevant = [r for r, _ in relevance[query_n + 1]]\n",
    "        pLook = [1]\n",
    "        pRelArr = [pRel if query[0] in relevant else 0]\n",
    "        pFound = pLook[-1] * pRelArr[-1]\n",
    "\n",
    "        # Calculate pFound, pLook[i], and pRel[i]\n",
    "        for doc_n in range(1, len(query)):\n",
    "            pLook.append(pLook[-1]*(1-pBreak)*(1-pRelArr[-1]))\n",
    "            pRelArr.append(pRel if query[doc_n] in relevant else 0)\n",
    "            pFound += pLook[-1] * pRelArr[-1]\n",
    "\n",
    "        pFounds.append(pFound)\n",
    "        \n",
    "    return sum(pFounds) / len(pFounds)"
   ]
  },
  {
   "cell_type": "markdown",
   "metadata": {},
   "source": [
    "### 1.4.1. Tests"
   ]
  },
  {
   "cell_type": "code",
   "execution_count": 8,
   "metadata": {},
   "outputs": [
    {
     "name": "stdout",
     "output_type": "stream",
     "text": [
      "pFound 0.5821558180674999\n"
     ]
    }
   ],
   "source": [
    "pFound_test = pFound(test_results, test_relevance)\n",
    "print(\"pFound\", pFound_test)\n",
    "assert np.isclose(pFound_test, 0.582, atol=1e-03)\n",
    "assert pFound(test_results[:5], test_relevance) > pFound(test_results[5:10], test_relevance)"
   ]
  }
 ],
 "metadata": {
  "kernelspec": {
   "display_name": "Python 3",
   "language": "python",
   "name": "python3"
  },
  "language_info": {
   "codemirror_mode": {
    "name": "ipython",
    "version": 3
   },
   "file_extension": ".py",
   "mimetype": "text/x-python",
   "name": "python",
   "nbconvert_exporter": "python",
   "pygments_lexer": "ipython3",
   "version": "3.10.7"
  },
  "vscode": {
   "interpreter": {
    "hash": "d6a080e79ab919cc29f413f5fcdf6fd20b8290010ecc9282aed9e0af19543a06"
   }
  }
 },
 "nbformat": 4,
 "nbformat_minor": 4
}
