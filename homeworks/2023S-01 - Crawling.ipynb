{
 "cells": [
  {
   "cell_type": "markdown",
   "metadata": {},
   "source": [
    "# 1. Crawler\n",
    "\n",
    "## 1.0. Related example\n",
    "\n",
    "This code shows `wget`-like tool written in python. Run it from console (`python wget.py`), make it work. Check the code, reuse, and modify for your needs."
   ]
  },
  {
   "cell_type": "code",
   "execution_count": 281,
   "metadata": {},
   "outputs": [],
   "source": [
    "# import argparse\n",
    "# import os\n",
    "# import re\n",
    "# import requests\n",
    "\n",
    "\n",
    "# def wget(url, filename):\n",
    "#     # allow redirects - in case file is relocated\n",
    "#     resp = requests.get(url, allow_redirects=True)\n",
    "#     # this can also be 2xx, but for simplicity now we stick to 200\n",
    "#     # you can also check for `resp.ok`\n",
    "#     if resp.status_code != 200:\n",
    "#         print(resp.status_code, resp.reason, 'for', url)\n",
    "#         return\n",
    "    \n",
    "#     # just to be cool and print something\n",
    "#     print(*[f\"{key}: {value}\" for key, value in resp.headers.items()], sep='\\n')\n",
    "#     print()\n",
    "    \n",
    "#     # try to extract filename from url\n",
    "#     if filename is None:\n",
    "#         # start with http*, ends if ? or # appears (or none of)\n",
    "#         m = re.search(\"^http.*/([^/\\?#]*)[\\?#]?\", url)\n",
    "#         filename = m.group(1)\n",
    "#         if not filename:\n",
    "#             raise NameError(f\"Filename neither given, nor found for {url}\")\n",
    "\n",
    "#     # what will you do in case 2 websites store file with the same name?\n",
    "#     if os.path.exists(filename):\n",
    "#         raise OSError(f\"File {filename} already exists\")\n",
    "    \n",
    "#     with open(filename, 'wb') as f:\n",
    "#         f.write(resp.content)\n",
    "#         print(f\"File saved as {filename}\")\n",
    "\n",
    "\n",
    "# if __name__ == \"__main__\":\n",
    "#     parser = argparse.ArgumentParser(description='download file.')\n",
    "#     parser.add_argument(\"-O\", type=str, default=None, dest='filename', help=\"output file name. Default -- taken from resource\")\n",
    "#     parser.add_argument(\"url\", type=str, default=None, help=\"Provide URL here\")\n",
    "#     args = parser.parse_args()\n",
    "#     wget(args.url, args.filename)"
   ]
  },
  {
   "cell_type": "markdown",
   "metadata": {},
   "source": [
    "### 1.0.1. How to parse a page?\n",
    "\n",
    "If you build a crawler, you might follow one of the approaches:\n",
    "1. search for URLs in the page, assuming this is just a text.\n",
    "2. search for URLs in the places where URLs should appear: `<a href=..`, `<img src=...`, `<iframe src=...` and so on.\n",
    "\n",
    "To follow the first approach you can rely on some good regular expression. [Like this](https://stackoverflow.com/a/3809435).\n",
    "\n",
    "To follow the second approach just read one of these: [short answer](https://stackoverflow.com/questions/1080411/retrieve-links-from-web-page-using-python-and-beautifulsoup) or [exhaustive explanation](https://hackersandslackers.com/scraping-urls-with-beautifulsoup/)."
   ]
  },
  {
   "cell_type": "markdown",
   "metadata": {},
   "source": [
    "## 1.1. [15] Download and persist #\n",
    "Please complete a code for `load()`, `download()` and `persist()` methods of `Document` class. What they do:\n",
    "- for a given URL `download()` method downloads binary data and stores in `self.content`. It returns `True` for success, else `False`.\n",
    "- `persist()` method saves `self.content` somewhere in file system. We do it to avoid multiple downloads (for caching in other words).\n",
    "- `load()` method loads data from hard drive. Returns `True` for success.\n",
    "\n",
    "Tests checks that your code somehow works.\n",
    "\n",
    "**NB Passing the test doesn't mean you correctly completed the task.** These are **criteria, which have to be fullfilled**:\n",
    "1. URL is a unique identifier (as it is a subset of URI). Thus, documents with different URLs should be stored in different files. Typical errors: documents from the same domain are overwritten to the same file, URLs with similar endings are downloaded to the same file, etc.\n",
    "2. The document can be not only a text file, but also a binary. Pay attention that if you download `mp3` file, it still can be played. Hint: don't hurry to convert everything to text."
   ]
  },
  {
   "cell_type": "code",
   "execution_count": 282,
   "metadata": {},
   "outputs": [],
   "source": [
    "import requests\n",
    "from urllib.parse import quote\n",
    "import hashlib\n",
    "import re\n",
    "\n",
    "class Document:\n",
    "    \n",
    "    def __init__(self, url):\n",
    "        # Initialize url and quoted_url\n",
    "        self.url = url\n",
    "        self.quoted_url = quote(url, safe='/')\n",
    "\n",
    "        # Extract file type from url\n",
    "        bare_link_regex = '^https?://[\\w\\-\\.]+/?'\n",
    "        type_pattern = re.compile('[.]\\w+$')\n",
    "        \n",
    "        link_path_part = re.sub(bare_link_regex, '', self.url)\n",
    "        # print(link_path_part)\n",
    "        types = type_pattern.findall(link_path_part)\n",
    "        file_type = types[0] if types else '.html'\n",
    "\n",
    "        # Create file path\n",
    "        self.file_path = './' + hashlib.sha256(self.quoted_url.encode()).hexdigest() + file_type\n",
    "\n",
    "        # print(file_type)\n",
    "        # print(self.file_path)\n",
    "        \n",
    "    def get(self):\n",
    "        if not self.load():\n",
    "            if not self.download():\n",
    "                raise FileNotFoundError(self.url)\n",
    "            else:\n",
    "                self.persist()\n",
    "    \n",
    "    def download(self):\n",
    "        #TODO download self.url content, store it in self.content and return True in case of success\n",
    "        response = requests.get(self.url)\n",
    "        if response.status_code == 200:\n",
    "            self.content = response.content\n",
    "            return True\n",
    "        return False\n",
    "    \n",
    "    def persist(self):\n",
    "        #TODO write document content to hard drive\n",
    "        with open(self.file_path, 'wb') as persist_file:\n",
    "            persist_file.write(self.content)\n",
    "            \n",
    "    def load(self):\n",
    "        #TODO load content from hard drive, store it in self.content and return True in case of success\n",
    "        try:\n",
    "            with open(self.file_path, 'rb') as load_file:\n",
    "                self.content = load_file.read()\n",
    "                return True\n",
    "        except FileNotFoundError:\n",
    "\n",
    "            return False"
   ]
  },
  {
   "cell_type": "markdown",
   "metadata": {},
   "source": [
    "### 1.1.1. Tests ###"
   ]
  },
  {
   "cell_type": "code",
   "execution_count": 283,
   "metadata": {},
   "outputs": [],
   "source": [
    "doc = Document('http://sprotasov.ru/data/iu.txt')\n",
    "# mp3_link_test = https://file-examples.com/storage/feeb72b10363daaeba4c0c9/2017/11/file_example_MP3_700KB.mp3\n",
    "\n",
    "doc.get()\n",
    "assert doc.content, \"Document download failed\"\n",
    "assert \"Code snippets, demos and labs for the course\" in str(doc.content), \"Document content error\"\n",
    "\n",
    "doc.get()\n",
    "assert doc.load(), \"Load should return true for saved document\"\n",
    "assert \"Code snippets, demos and labs for the course\" in str(doc.content), \"Document load from disk error\""
   ]
  },
  {
   "cell_type": "markdown",
   "metadata": {},
   "source": [
    "## 1.2. [10] Parse HTML\n",
    "`BeautifulSoap` library is a de facto standard to parse XML and HTML documents in python. Use it to complete `parse()` method that extracts document contents. You should initialize:\n",
    "1. `self.anchors` list of tuples `('text', 'url')` met in a document. Be aware, there exist relative links (e.g. `../content/pic.jpg`). Use `urllib.parse.urljoin()` to fix this issue.\n",
    "2. `self.images` list of images met in a document. Again, links can be relative to current page.\n",
    "3. `self.text` should keep plain text of the document without scripts, tags, comments and so on. You can refer to [this stackoverflow answer](https://stackoverflow.com/a/1983219) for details.\n",
    "\n",
    "**NB All these 3 criteria must be fulfilled to get full point for the task.**"
   ]
  },
  {
   "cell_type": "code",
   "execution_count": 284,
   "metadata": {},
   "outputs": [],
   "source": [
    "from bs4 import BeautifulSoup\n",
    "from bs4.element import Comment\n",
    "from urllib.parse import urljoin\n",
    "\n",
    "\n",
    "class HtmlDocument(Document):\n",
    "    \n",
    "    def parse(self):\n",
    "        #TODO extract plain text, images and links from the document\n",
    "        self.anchors = []\n",
    "        self.images = []\n",
    "        self.text = None\n",
    "\n",
    "        # Create a BeautifulSoup object\n",
    "        soup = BeautifulSoup(self.content.decode('utf-8'), 'html.parser')\n",
    "\n",
    "        # Exctract anchors\n",
    "        for anchor in soup.find_all('a'):\n",
    "            anchor_text = anchor.text\n",
    "            anchor_bare_url = anchor.get('href')\n",
    "            anchor_url = urljoin(self.url, anchor_bare_url)\n",
    "            self.anchors.append((anchor_text, anchor_url))\n",
    "\n",
    "        # Extract images\n",
    "        for image in soup.find_all('img'):\n",
    "            image_bare_url = image.get('src')\n",
    "            image_url = urljoin(self.url, image_bare_url)\n",
    "            self.images.append(image_url)\n",
    "\n",
    "        # Extract text\n",
    "        # I decided to use the filter that was provided to us, changing it a bit\n",
    "        # https://stackoverflow.com/questions/1936466/how-to-scrape-only-visible-webpage-text-with-beautifulsoup/1983219#1983219\n",
    "        all_texts = soup.findAll(text=True)\n",
    "        filter_func = lambda x: x.parent.name not in ['style', 'script', '[document]', 'head', 'title'] and not isinstance(x, Comment)\n",
    "        text_array = [el for el in all_texts if filter_func(el)]\n",
    "        # print(text_array)\n",
    "        self.text = ' '.join(text_array)\n",
    "        \n",
    "        # print(self.anchors)\n",
    "        # print(self.images)\n",
    "        # print(self.text)"
   ]
  },
  {
   "cell_type": "markdown",
   "metadata": {},
   "source": [
    "### 1.2.1. Tests"
   ]
  },
  {
   "cell_type": "code",
   "execution_count": 285,
   "metadata": {},
   "outputs": [],
   "source": [
    "doc = HtmlDocument(\"http://sprotasov.ru\")\n",
    "doc.get()\n",
    "doc.parse()\n",
    "\n",
    "assert \"just few links\" in doc.text, \"Error parsing text\"\n",
    "assert \"http://sprotasov.ru/images/gb.svg\" in doc.images, \"Error parsing images\"\n",
    "assert any(p[1] == \"https://twitter.com/07C3\" for p in doc.anchors), \"Error parsing links\""
   ]
  },
  {
   "cell_type": "markdown",
   "metadata": {},
   "source": [
    "## 1.3. [10] Document analysis ##\n",
    "Complete the code for `HtmlDocumentTextData` class. Implement word and sentence splitting (use any method you can propose). \n",
    "\n",
    "**Criteria to succeed in the task**: \n",
    "1. Your `get_word_stats()` method should return `Counter` object.\n",
    "2. Don't forget to lowercase your words for counting.\n",
    "3. Sentences should be obtained from inside `<body>` tag only."
   ]
  },
  {
   "cell_type": "code",
   "execution_count": 317,
   "metadata": {},
   "outputs": [],
   "source": [
    "from collections import Counter\n",
    "\n",
    "class HtmlDocumentTextData:\n",
    "    \n",
    "    def __init__(self, url):\n",
    "        self.doc = HtmlDocument(url)\n",
    "        self.doc.get()\n",
    "        self.doc.parse()\n",
    "    \n",
    "    def get_sentences(self):\n",
    "        #TODO implement sentence parser\n",
    "        result = []\n",
    "\n",
    "        process_text = self.doc.text\n",
    "\n",
    "        # I decided to clear the text a bit\n",
    "        # before splitting it into sentences\n",
    "        # in case to avoid some problems with\n",
    "        # charracters.\n",
    "        # Moreover, it helps to debug the code\n",
    "        # and to see the text itself clearly.\n",
    "\n",
    "        # Patterns for cleaning text\n",
    "        bad_symbols_pattern = r'\\t|\\r'\n",
    "        bad_new_lines_pattern = r'\\n([ ]\\n)+'\n",
    "        long_spaces_pattern = r'[ ]{2,}'\n",
    "        spaces_pattern = r'^[ ]+|\\n[ ]+|[ ]\\n[ ]?'\n",
    "        few_new_lines_pattern = r'\\n{2,}'\n",
    "\n",
    "        # Clean text\n",
    "        process_text = re.sub(bad_symbols_pattern, '', process_text)\n",
    "        process_text = re.sub(bad_new_lines_pattern, '\\n', process_text)\n",
    "        process_text = re.sub(long_spaces_pattern, ' ', process_text)\n",
    "        process_text = re.sub(spaces_pattern, '\\n', process_text)\n",
    "        process_text = re.sub(few_new_lines_pattern, '\\n', process_text)\n",
    "\n",
    "        # print(process_text)\n",
    "\n",
    "        # Pattern to split text into sentences\n",
    "        sentences = re.split(r'[.?!][ \\n]|\\n', process_text)\n",
    "\n",
    "        # Itterate through \n",
    "        for sentence in sentences:\n",
    "            sentence = sentence.strip()\n",
    "            if len(sentence) < 1:\n",
    "                continue\n",
    "            if re.match(r'^[a-zа-я]' , sentence):\n",
    "                result[-1] += (' ' + sentence)\n",
    "                continue\n",
    "            result.append(sentence)\n",
    "\n",
    "        return result\n",
    "    \n",
    "    def get_word_stats(self):\n",
    "        #TODO return Counter object of the document, containing mapping {`word` -> count_in_doc}\n",
    "        words = []\n",
    "\n",
    "        # Characters that split\n",
    "        split_pattern = r'[, :;]+'\n",
    "\n",
    "        # Get sentences\n",
    "        sentences = self.get_sentences()\n",
    "\n",
    "        # Split sentences into words\n",
    "        for sentence in sentences:\n",
    "            lower_case_sentence = sentence.lower()\n",
    "            words += re.split(split_pattern, lower_case_sentence)\n",
    "\n",
    "        return Counter(words)"
   ]
  },
  {
   "cell_type": "markdown",
   "metadata": {},
   "source": [
    "### 1.3.1. Tests ###"
   ]
  },
  {
   "cell_type": "code",
   "execution_count": 318,
   "metadata": {},
   "outputs": [
    {
     "name": "stdout",
     "output_type": "stream",
     "text": [
      "[('и', 44), ('в', 22), ('иннополис', 19), ('с', 13), ('на', 12), ('университета', 11), ('университет', 10), ('центр', 10), ('для', 9), ('образование', 8)]\n"
     ]
    }
   ],
   "source": [
    "doc = HtmlDocumentTextData(\"https://innopolis.university/\")\n",
    "\n",
    "print(doc.get_word_stats().most_common(10))\n",
    "assert [x for x in doc.get_word_stats().most_common(10) if x[0] == 'иннополис'], 'иннополис should be among most common'"
   ]
  },
  {
   "cell_type": "markdown",
   "metadata": {},
   "source": [
    "## 1.4. [15] Crawling ##\n",
    "\n",
    "Method `crawl_generator()` is given starting url (`source`) and max depth of search. It should return a **generator** of `HtmlDocumentTextData` objects (return a document as soon as it is downloaded and parsed). You can benefit from `yield obj_name` python construction. Use `HtmlDocumentTextData.anchors` field to go deeper."
   ]
  },
  {
   "cell_type": "code",
   "execution_count": 288,
   "metadata": {},
   "outputs": [],
   "source": [
    "from queue import Queue\n",
    "\n",
    "class Crawler:\n",
    "    \n",
    "    def crawl_generator(self, source, depth=1):\n",
    "        #TODO return real crawling results. Don't forget to process failures, \n",
    "        # exceptions, 3**, 4** codes\n",
    "        for i in range(3):\n",
    "            yield HtmlDocumentTextData(source)"
   ]
  },
  {
   "cell_type": "markdown",
   "metadata": {},
   "source": [
    "### 1.4.1. Tests ###"
   ]
  },
  {
   "cell_type": "code",
   "execution_count": 289,
   "metadata": {},
   "outputs": [
    {
     "name": "stdout",
     "output_type": "stream",
     "text": [
      "https://innopolis.university/en/\n",
      "0 distinct word(s) so far\n",
      "https://innopolis.university/en/\n",
      "0 distinct word(s) so far\n",
      "https://innopolis.university/en/\n",
      "0 distinct word(s) so far\n",
      "Done\n",
      "[]\n"
     ]
    },
    {
     "ename": "AssertionError",
     "evalue": "innopolis sould be among most common",
     "output_type": "error",
     "traceback": [
      "\u001b[1;31m---------------------------------------------------------------------------\u001b[0m",
      "\u001b[1;31mAssertionError\u001b[0m                            Traceback (most recent call last)",
      "Cell \u001b[1;32mIn[289], line 15\u001b[0m\n\u001b[0;32m     12\u001b[0m \u001b[39mprint\u001b[39m(\u001b[39m\"\u001b[39m\u001b[39mDone\u001b[39m\u001b[39m\"\u001b[39m)\n\u001b[0;32m     14\u001b[0m \u001b[39mprint\u001b[39m(counter\u001b[39m.\u001b[39mmost_common(\u001b[39m20\u001b[39m))\n\u001b[1;32m---> 15\u001b[0m \u001b[39massert\u001b[39;00m [x \u001b[39mfor\u001b[39;00m x \u001b[39min\u001b[39;00m counter\u001b[39m.\u001b[39mmost_common(\u001b[39m20\u001b[39m) \u001b[39mif\u001b[39;00m x[\u001b[39m0\u001b[39m] \u001b[39m==\u001b[39m \u001b[39m'\u001b[39m\u001b[39minnopolis\u001b[39m\u001b[39m'\u001b[39m], \u001b[39m'\u001b[39m\u001b[39minnopolis sould be among most common\u001b[39m\u001b[39m'\u001b[39m\n",
      "\u001b[1;31mAssertionError\u001b[0m: innopolis sould be among most common"
     ]
    }
   ],
   "source": [
    "crawler = Crawler()\n",
    "counter = Counter()\n",
    "\n",
    "for c in crawler.crawl_generator(\"https://innopolis.university/en/\", 2):\n",
    "    print(c.doc.url)\n",
    "    if c.doc.url[-4:] in ('.pdf', '.mp3', '.avi', '.mp4', '.txt'):\n",
    "        print(\"Skipping\", c.doc.url)\n",
    "        continue\n",
    "    counter.update(c.get_word_stats())\n",
    "    print(len(counter), \"distinct word(s) so far\")\n",
    "    \n",
    "print(\"Done\")\n",
    "\n",
    "print(counter.most_common(20))\n",
    "assert [x for x in counter.most_common(20) if x[0] == 'innopolis'], 'innopolis sould be among most common'"
   ]
  }
 ],
 "metadata": {
  "kernelspec": {
   "display_name": "Python 3",
   "language": "python",
   "name": "python3"
  },
  "language_info": {
   "codemirror_mode": {
    "name": "ipython",
    "version": 3
   },
   "file_extension": ".py",
   "mimetype": "text/x-python",
   "name": "python",
   "nbconvert_exporter": "python",
   "pygments_lexer": "ipython3",
   "version": "3.10.7"
  },
  "vscode": {
   "interpreter": {
    "hash": "d6a080e79ab919cc29f413f5fcdf6fd20b8290010ecc9282aed9e0af19543a06"
   }
  }
 },
 "nbformat": 4,
 "nbformat_minor": 4
}
