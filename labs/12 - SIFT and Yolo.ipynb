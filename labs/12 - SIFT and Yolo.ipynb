{
 "cells": [
  {
   "cell_type": "markdown",
   "metadata": {},
   "source": [
    "# 1. Image search using [SIFT](https://www.thepythoncode.com/article/sift-feature-extraction-using-opencv-in-python)\n",
    "\n",
    "Let's think about information retrieval in the context of image search. How can we find images similar to a query in a fast way (faster than doing pair-wise comparison with all images in a database)? How can we identify same objects taken in slightly different contexts? \n",
    "\n",
    "One way to do this is to find special points of interest in every image, so called keypoints (or descriptors), which characterize the image and which are more or less invariant to scaling, orientation, illumination changes, and some other distortions. There are several algorithms available that identify such keypoints, and today we will focus on [SIFT](https://en.wikipedia.org/wiki/Scale-invariant_feature_transform). \n",
    "\n",
    "Your task is to apply SIFT to a dataset of images and enable similar images search.\n",
    "\n",
    "## Get dataset\n",
    "\n",
    "We will use `Caltech 101` dataset, download it from [here](https://data.caltech.edu/records/mzrjq-6wc02). It consists of pictures of objects belonging to 101 categories. About 40 to 800 images per category. Most categories have about 50 images. The size of each image is roughly 300 x 200 pixels."
   ]
  },
  {
   "cell_type": "markdown",
   "metadata": {},
   "source": [
    "## SIFT example\n",
    "\n",
    "Below is the example of SIFT keyponts extraction using `opencv`. [This](https://docs.opencv.org/trunk/da/df5/tutorial_py_sift_intro.html) is a dedicated tutorial, and [this](https://docs.opencv.org/master/dc/dc3/tutorial_py_matcher.html) is another tutorial you may need to find matches between two images (use in your code `cv.drawMatches()` function to display keypoint matches)."
   ]
  },
  {
   "cell_type": "code",
   "execution_count": 1,
   "metadata": {},
   "outputs": [
    {
     "name": "stdout",
     "output_type": "stream",
     "text": [
      "Collecting opencv-python\n",
      "  Downloading opencv_python-4.7.0.72-cp37-abi3-win_amd64.whl (38.2 MB)\n",
      "     ---------------------------------------- 38.2/38.2 MB 4.8 MB/s eta 0:00:00\n",
      "Collecting opencv-contrib-python\n",
      "  Downloading opencv_contrib_python-4.7.0.72-cp37-abi3-win_amd64.whl (44.9 MB)\n",
      "     ---------------------------------------- 44.9/44.9 MB 3.4 MB/s eta 0:00:00\n",
      "Requirement already satisfied: numpy>=1.17.0 in c:\\users\\damir\\appdata\\local\\programs\\python\\python310\\lib\\site-packages (from opencv-python) (1.24.2)\n",
      "Installing collected packages: opencv-python, opencv-contrib-python\n",
      "Successfully installed opencv-contrib-python-4.7.0.72 opencv-python-4.7.0.72\n"
     ]
    },
    {
     "name": "stderr",
     "output_type": "stream",
     "text": [
      "\n",
      "[notice] A new release of pip available: 22.3.1 -> 23.0.1\n",
      "[notice] To update, run: python.exe -m pip install --upgrade pip\n"
     ]
    },
    {
     "name": "stdout",
     "output_type": "stream",
     "text": [
      "Collecting datasets\n",
      "  Downloading datasets-2.11.0-py3-none-any.whl (468 kB)\n",
      "     -------------------------------------- 468.7/468.7 kB 2.1 MB/s eta 0:00:00\n",
      "Collecting fsspec[http]>=2021.11.1\n",
      "  Downloading fsspec-2023.4.0-py3-none-any.whl (153 kB)\n",
      "     -------------------------------------- 154.0/154.0 kB 4.5 MB/s eta 0:00:00\n",
      "Requirement already satisfied: requests>=2.19.0 in c:\\users\\damir\\appdata\\local\\programs\\python\\python310\\lib\\site-packages (from datasets) (2.28.2)\n",
      "Collecting xxhash\n",
      "  Downloading xxhash-3.2.0-cp310-cp310-win_amd64.whl (30 kB)\n",
      "Collecting multiprocess\n",
      "  Downloading multiprocess-0.70.14-py310-none-any.whl (134 kB)\n",
      "     -------------------------------------- 134.3/134.3 kB 4.0 MB/s eta 0:00:00\n",
      "Requirement already satisfied: packaging in c:\\users\\damir\\appdata\\local\\programs\\python\\python310\\lib\\site-packages (from datasets) (23.0)\n",
      "Collecting responses<0.19\n",
      "  Downloading responses-0.18.0-py3-none-any.whl (38 kB)\n",
      "Requirement already satisfied: pandas in c:\\users\\damir\\appdata\\local\\programs\\python\\python310\\lib\\site-packages (from datasets) (1.5.3)\n",
      "Collecting aiohttp\n",
      "  Downloading aiohttp-3.8.4-cp310-cp310-win_amd64.whl (319 kB)\n",
      "     ------------------------------------- 319.8/319.8 kB 10.0 MB/s eta 0:00:00\n",
      "Requirement already satisfied: pyyaml>=5.1 in c:\\users\\damir\\appdata\\local\\programs\\python\\python310\\lib\\site-packages (from datasets) (6.0)\n",
      "Collecting pyarrow>=8.0.0\n",
      "  Downloading pyarrow-11.0.0-cp310-cp310-win_amd64.whl (20.6 MB)\n",
      "     ---------------------------------------- 20.6/20.6 MB 3.4 MB/s eta 0:00:00\n",
      "Collecting huggingface-hub<1.0.0,>=0.11.0\n",
      "  Downloading huggingface_hub-0.13.4-py3-none-any.whl (200 kB)\n",
      "     -------------------------------------- 200.1/200.1 kB 2.0 MB/s eta 0:00:00\n",
      "Requirement already satisfied: tqdm>=4.62.1 in c:\\users\\damir\\appdata\\local\\programs\\python\\python310\\lib\\site-packages (from datasets) (4.64.1)\n",
      "Requirement already satisfied: numpy>=1.17 in c:\\users\\damir\\appdata\\local\\programs\\python\\python310\\lib\\site-packages (from datasets) (1.24.2)\n",
      "Collecting dill<0.3.7,>=0.3.0\n",
      "  Downloading dill-0.3.6-py3-none-any.whl (110 kB)\n",
      "     -------------------------------------- 110.5/110.5 kB 3.2 MB/s eta 0:00:00\n",
      "Collecting multidict<7.0,>=4.5\n",
      "  Downloading multidict-6.0.4-cp310-cp310-win_amd64.whl (28 kB)\n",
      "Collecting async-timeout<5.0,>=4.0.0a3\n",
      "  Downloading async_timeout-4.0.2-py3-none-any.whl (5.8 kB)\n",
      "Collecting yarl<2.0,>=1.0\n",
      "  Downloading yarl-1.8.2-cp310-cp310-win_amd64.whl (56 kB)\n",
      "     ---------------------------------------- 56.1/56.1 kB ? eta 0:00:00\n",
      "Requirement already satisfied: attrs>=17.3.0 in c:\\users\\damir\\appdata\\local\\programs\\python\\python310\\lib\\site-packages (from aiohttp->datasets) (22.2.0)\n",
      "Requirement already satisfied: charset-normalizer<4.0,>=2.0 in c:\\users\\damir\\appdata\\local\\programs\\python\\python310\\lib\\site-packages (from aiohttp->datasets) (3.0.1)\n",
      "Collecting frozenlist>=1.1.1\n",
      "  Downloading frozenlist-1.3.3-cp310-cp310-win_amd64.whl (33 kB)\n",
      "Collecting aiosignal>=1.1.2\n",
      "  Downloading aiosignal-1.3.1-py3-none-any.whl (7.6 kB)\n",
      "Collecting filelock\n",
      "  Downloading filelock-3.11.0-py3-none-any.whl (10.0 kB)\n",
      "Requirement already satisfied: typing-extensions>=3.7.4.3 in c:\\users\\damir\\appdata\\local\\programs\\python\\python310\\lib\\site-packages (from huggingface-hub<1.0.0,>=0.11.0->datasets) (4.5.0)\n",
      "Requirement already satisfied: urllib3<1.27,>=1.21.1 in c:\\users\\damir\\appdata\\local\\programs\\python\\python310\\lib\\site-packages (from requests>=2.19.0->datasets) (1.26.14)\n",
      "Requirement already satisfied: idna<4,>=2.5 in c:\\users\\damir\\appdata\\local\\programs\\python\\python310\\lib\\site-packages (from requests>=2.19.0->datasets) (3.4)\n",
      "Requirement already satisfied: certifi>=2017.4.17 in c:\\users\\damir\\appdata\\local\\programs\\python\\python310\\lib\\site-packages (from requests>=2.19.0->datasets) (2022.12.7)\n",
      "Requirement already satisfied: colorama in c:\\users\\damir\\appdata\\local\\programs\\python\\python310\\lib\\site-packages (from tqdm>=4.62.1->datasets) (0.4.6)\n",
      "Requirement already satisfied: python-dateutil>=2.8.1 in c:\\users\\damir\\appdata\\local\\programs\\python\\python310\\lib\\site-packages (from pandas->datasets) (2.8.2)\n",
      "Requirement already satisfied: pytz>=2020.1 in c:\\users\\damir\\appdata\\local\\programs\\python\\python310\\lib\\site-packages (from pandas->datasets) (2022.7.1)\n",
      "Requirement already satisfied: six>=1.5 in c:\\users\\damir\\appdata\\local\\programs\\python\\python310\\lib\\site-packages (from python-dateutil>=2.8.1->pandas->datasets) (1.16.0)\n",
      "Installing collected packages: xxhash, pyarrow, multidict, fsspec, frozenlist, filelock, dill, async-timeout, yarl, responses, multiprocess, huggingface-hub, aiosignal, aiohttp, datasets\n",
      "Successfully installed aiohttp-3.8.4 aiosignal-1.3.1 async-timeout-4.0.2 datasets-2.11.0 dill-0.3.6 filelock-3.11.0 frozenlist-1.3.3 fsspec-2023.4.0 huggingface-hub-0.13.4 multidict-6.0.4 multiprocess-0.70.14 pyarrow-11.0.0 responses-0.18.0 xxhash-3.2.0 yarl-1.8.2\n"
     ]
    },
    {
     "name": "stderr",
     "output_type": "stream",
     "text": [
      "\n",
      "[notice] A new release of pip available: 22.3.1 -> 23.0.1\n",
      "[notice] To update, run: python.exe -m pip install --upgrade pip\n"
     ]
    }
   ],
   "source": [
    "!pip install opencv-python opencv-contrib-python\n",
    "# or use https://huggingface.co/datasets/will33am/Caltech101\n",
    "!pip install datasets"
   ]
  },
  {
   "cell_type": "code",
   "execution_count": 6,
   "metadata": {},
   "outputs": [
    {
     "name": "stderr",
     "output_type": "stream",
     "text": [
      "Found cached dataset parquet (C:/Users/Damir/.cache/huggingface/datasets/Multimodal-Fatima___parquet/default-e430ed92d9fba716/0.0.0/2a3b91fbd88a2c90d1dbbb32b460cf621d31bd5b05b934492fdef7d8d6f236ec)\n"
     ]
    },
    {
     "data": {
      "application/vnd.jupyter.widget-view+json": {
       "model_id": "0624d27a5e814372a4e962c65704eefc",
       "version_major": 2,
       "version_minor": 0
      },
      "text/plain": [
       "  0%|          | 0/1 [00:00<?, ?it/s]"
      ]
     },
     "metadata": {},
     "output_type": "display_data"
    },
    {
     "name": "stderr",
     "output_type": "stream",
     "text": [
      "Found cached dataset parquet (C:/Users/Damir/.cache/huggingface/datasets/Multimodal-Fatima___parquet/default-cec15c03775a4af0/0.0.0/2a3b91fbd88a2c90d1dbbb32b460cf621d31bd5b05b934492fdef7d8d6f236ec)\n"
     ]
    },
    {
     "data": {
      "application/vnd.jupyter.widget-view+json": {
       "model_id": "990ac770b9454a91b2113e12c7c9f910",
       "version_major": 2,
       "version_minor": 0
      },
      "text/plain": [
       "  0%|          | 0/1 [00:00<?, ?it/s]"
      ]
     },
     "metadata": {},
     "output_type": "display_data"
    }
   ],
   "source": [
    "from datasets import load_dataset\n",
    "\n",
    "train = load_dataset(\"Multimodal-Fatima/Caltech101_not_background_train\") # Multimodal-Fatima/Caltech101_not_background_train\n",
    "test = load_dataset(\"Multimodal-Fatima/Caltech101_not_background_test\")   # Multimodal-Fatima/Caltech101_not_background_test"
   ]
  },
  {
   "cell_type": "code",
   "execution_count": 7,
   "metadata": {},
   "outputs": [
    {
     "name": "stdout",
     "output_type": "stream",
     "text": [
      "[0, 1, 2, 3, 5, 6, 7, 8, 9, 10, 11, 12, 13, 14, 15, 16, 17, 18, 19, 20, 21, 22, 23, 24, 25, 26, 27, 28, 29, 30, 31, 32, 33, 34, 35, 36, 37, 38, 39, 40, 41, 42, 43, 44, 45, 46, 47, 48, 49, 50, 51, 52, 53, 54, 55, 56, 57, 58, 59, 60, 61, 62, 63, 64, 65, 66, 67, 68, 69, 70, 71, 72, 73, 74, 75, 76, 77, 78, 79, 80, 81, 82, 83, 84, 85, 86, 87, 88, 89, 90, 91, 92, 93, 94, 95, 96, 97, 98, 99, 100, 101]\n"
     ]
    },
    {
     "data": {
      "text/plain": [
       "{'image': <PIL.JpegImagePlugin.JpegImageFile image mode=L size=300x300>,\n",
       " 'label': 100,\n",
       " 'annotation': {'obj_contour': [[179.19556451612905,\n",
       "    170.5866935483871,\n",
       "    165.1754032258064,\n",
       "    154.35282258064512,\n",
       "    134.67540322580646,\n",
       "    87.69556451612901,\n",
       "    43.66733870967741,\n",
       "    22.26814516129032,\n",
       "    7.756048387096769,\n",
       "    6.526209677419352,\n",
       "    11.9375,\n",
       "    17.84072580645161,\n",
       "    24.97379032258064,\n",
       "    38.25604838709677,\n",
       "    114.99798387096773,\n",
       "    157.0584677419355,\n",
       "    177.9657258064516,\n",
       "    197.15120967741933,\n",
       "    215.10685483870964,\n",
       "    228.63508064516128,\n",
       "    240.4415322580645,\n",
       "    241.91733870967738,\n",
       "    237.48991935483872,\n",
       "    223.96169354838707,\n",
       "    212.15524193548384,\n",
       "    206.98991935483866,\n",
       "    221.25604838709677,\n",
       "    221.25604838709677,\n",
       "    215.8447580645161,\n",
       "    178.70362903225805,\n",
       "    178.70362903225805],\n",
       "   [108.91532258064512,\n",
       "    105.47177419354836,\n",
       "    92.92741935483875,\n",
       "    81.366935483871,\n",
       "    72.75806451612905,\n",
       "    57.01612903225809,\n",
       "    42.995967741935516,\n",
       "    35.12500000000003,\n",
       "    28.23790322580649,\n",
       "    14.2177419354839,\n",
       "    6.5927419354839,\n",
       "    4.379032258064541,\n",
       "    4.625000000000028,\n",
       "    10.036290322580683,\n",
       "    39.79838709677422,\n",
       "    55.78629032258067,\n",
       "    57.26209677419358,\n",
       "    59.72177419354841,\n",
       "    58.73790322580648,\n",
       "    63.165322580645196,\n",
       "    76.20161290322582,\n",
       "    93.1733870967742,\n",
       "    96.86290322580649,\n",
       "    84.3185483870968,\n",
       "    84.3185483870968,\n",
       "    91.45161290322582,\n",
       "    103.75000000000003,\n",
       "    108.91532258064518,\n",
       "    111.866935483871,\n",
       "    109.16129032258067,\n",
       "    109.16129032258067]],\n",
       "  'box_coord': [[102, 216, 29, 272]]},\n",
       " 'id': 2117,\n",
       " 'clip_tags_ViT_L_14': ['strap wrench',\n",
       "  'hook wrench',\n",
       "  'spanner',\n",
       "  'crescent wrench',\n",
       "  'pin wrench'],\n",
       " 'blip_caption': 'a wren wren wren wren wren wren wren wren wren wren wren wren wren wren wren wren wren wren wren wren wren wren wren wren wren wren wren wren wren wren wren wren wren wren wren wren wren wren wren wren wren wren wren wren wren wren wren wren wren wren wren wren wren wren wren wren wren wren wren wren wren wren wren wren wren wren wren wren wren wren wren wren wren wren wren wren wren wren wren wren wren',\n",
       " 'LLM_Description_gpt3_downstream_tasks_ViT_L_14': ['a crank or motor for retracting the awning',\n",
       "  'a metal tool with a handle',\n",
       "  'used to hang tools and other items',\n",
       "  'may include a hook, stud, or clip for attaching to the ear',\n",
       "  'tool with a handle']}"
      ]
     },
     "execution_count": 7,
     "metadata": {},
     "output_type": "execute_result"
    }
   ],
   "source": [
    "test, train = test['test'], train['train']\n",
    "\n",
    "CLASSES = sorted(list(set([row['label'] for row in train])))\n",
    "print(CLASSES)\n",
    "\n",
    "strawberries = [row for row in train if row['label'] == 90]\n",
    "wrenches = [row for row in train if row['label'] == 100]\n",
    "wrenches[17]"
   ]
  },
  {
   "cell_type": "code",
   "execution_count": 9,
   "metadata": {},
   "outputs": [
    {
     "name": "stdout",
     "output_type": "stream",
     "text": [
      "1st keypoint Location (41.59, 109.31)\n",
      "1st keypoint Radius: 2.0728113651275635;  angle:232.883544921875\n"
     ]
    },
    {
     "data": {
      "image/png": "[encoded data removed]",
      "text/plain": [
       "<Figure size 640x480 with 1 Axes>"
      ]
     },
     "metadata": {},
     "output_type": "display_data"
    }
   ],
   "source": [
    "import cv2 as cv\n",
    "import numpy as np\n",
    "from matplotlib import pyplot as plt\n",
    "\n",
    "# img_dir = '../../101_ObjectCategories'\n",
    "img = np.array(wrenches[17]['image'])\n",
    "if len(img.shape) == 3:\n",
    "    gray = cv.cvtColor(img,cv.COLOR_BGR2GRAY)\n",
    "else:\n",
    "    gray = img\n",
    "\n",
    "# older versions of OpenCV\n",
    "# sift = cv.xfeatures2d.SIFT_create()\n",
    "sift = cv.SIFT_create()\n",
    "\n",
    "kp = sift.detect(gray, None)\n",
    "# use detectAndCompute(...) to get descriptors themselves\n",
    "\n",
    "print(f\"1st keypoint Location ({kp[0].pt[0]:.2f}, {kp[0].pt[1]:.2f})\")\n",
    "print(f\"1st keypoint Radius: {kp[0].size};  angle:{kp[0].angle}\")\n",
    "img=cv.drawKeypoints(gray, kp, img, flags=cv.DRAW_MATCHES_FLAGS_DRAW_RICH_KEYPOINTS)\n",
    "plt.imshow(img)\n",
    "plt.show()"
   ]
  },
  {
   "cell_type": "markdown",
   "metadata": {},
   "source": [
    "### Discussion\n",
    "\n",
    "**Q**: Discuss what you see here. What is the meaning of circle diameter? Of the angle?"
   ]
  },
  {
   "cell_type": "markdown",
   "metadata": {},
   "source": [
    "## Index of keypoints\n",
    "\n",
    "Let's suppose we've found image descriptors. How do we find similar images, having this information? In our case the descriptors are 128-dinensional vectors per keypoint, and there can be hundreds of such points. To enable fast search of similar images, you will index descriptors of all images using some data structure for approximate nearest neighbors search, such as Navigable Small World or Annoy. Then, for a (new) query image you will generate descriptors, and for each of these descriptors you will find its nearest neighbors (using Euclidean or Cosine distance, which you prefer). Finally, you will sort potential similar images (retrieved from neighbor descriptors) by frequency with which they appear in the nearest neighbors (more matches - higher the rank).\n",
    "\n",
    "### Build an index\n",
    "\n",
    "Read all images, saving category information. For every image generate SIFT descriptors and index them."
   ]
  },
  {
   "cell_type": "code",
   "execution_count": 10,
   "metadata": {},
   "outputs": [],
   "source": [
    "# read all images and add their descriptors to index\n",
    "import glob\n",
    "import numpy as np\n",
    "from tqdm import tqdm\n",
    "\n",
    "def generate_sift_descriptors(img):    \n",
    "    if len(np.array(img).shape) == 3:\n",
    "        gray = cv.cvtColor(img, cv.COLOR_BGR2GRAY)\n",
    "    else:\n",
    "        gray = img\n",
    "\n",
    "    sift = cv.SIFT_create()\n",
    "    kp, des = sift.detectAndCompute(gray, None)\n",
    "    \n",
    "    return kp, des\n",
    "        \n",
    "\n",
    "def get_top_descriptors(kp, des, top_k):\n",
    "    response_sort_indices = [i for (v, i) in sorted(((v, i) for (i, v) in enumerate(kp)), \n",
    "                                       key=lambda k: k[0].response, reverse=True)]        \n",
    "    top_des = np.take(des, response_sort_indices[:top_k], axis=0)\n",
    "    return top_des"
   ]
  },
  {
   "cell_type": "code",
   "execution_count": 11,
   "metadata": {},
   "outputs": [
    {
     "ename": "AttributeError",
     "evalue": "shape",
     "output_type": "error",
     "traceback": [
      "\u001b[1;31m---------------------------------------------------------------------------\u001b[0m",
      "\u001b[1;31mAttributeError\u001b[0m                            Traceback (most recent call last)",
      "Cell \u001b[1;32mIn[11], line 2\u001b[0m\n\u001b[0;32m      1\u001b[0m \u001b[39m# test\u001b[39;00m\n\u001b[1;32m----> 2\u001b[0m kp, des \u001b[39m=\u001b[39m generate_sift_descriptors(wrenches[\u001b[39m3\u001b[39;49m][\u001b[39m'\u001b[39;49m\u001b[39mimage\u001b[39;49m\u001b[39m'\u001b[39;49m])\n\u001b[0;32m      3\u001b[0m \u001b[39mprint\u001b[39m(\u001b[39m\"\u001b[39m\u001b[39mKeypoints:\u001b[39m\u001b[39m\"\u001b[39m, \u001b[39mlen\u001b[39m(kp), \u001b[39mlen\u001b[39m(des))\n\u001b[0;32m      4\u001b[0m \u001b[39mprint\u001b[39m(\u001b[39m\"\u001b[39m\u001b[39mCenter:\u001b[39m\u001b[39m\"\u001b[39m, kp[\u001b[39m4\u001b[39m]\u001b[39m.\u001b[39mpt)\n",
      "Cell \u001b[1;32mIn[10], line 7\u001b[0m, in \u001b[0;36mgenerate_sift_descriptors\u001b[1;34m(img)\u001b[0m\n\u001b[0;32m      6\u001b[0m \u001b[39mdef\u001b[39;00m \u001b[39mgenerate_sift_descriptors\u001b[39m(img):    \n\u001b[1;32m----> 7\u001b[0m     \u001b[39mif\u001b[39;00m \u001b[39mlen\u001b[39m(img\u001b[39m.\u001b[39;49mshape) \u001b[39m==\u001b[39m \u001b[39m3\u001b[39m:\n\u001b[0;32m      8\u001b[0m         gray \u001b[39m=\u001b[39m cv\u001b[39m.\u001b[39mcvtColor(img,cv\u001b[39m.\u001b[39mCOLOR_BGR2GRAY)\n\u001b[0;32m      9\u001b[0m     \u001b[39melse\u001b[39;00m:\n",
      "File \u001b[1;32mc:\\Users\\Damir\\AppData\\Local\\Programs\\Python\\Python310\\lib\\site-packages\\PIL\\Image.py:529\u001b[0m, in \u001b[0;36mImage.__getattr__\u001b[1;34m(self, name)\u001b[0m\n\u001b[0;32m    527\u001b[0m     deprecate(\u001b[39m\"\u001b[39m\u001b[39mImage categories\u001b[39m\u001b[39m\"\u001b[39m, \u001b[39m10\u001b[39m, \u001b[39m\"\u001b[39m\u001b[39mis_animated\u001b[39m\u001b[39m\"\u001b[39m, plural\u001b[39m=\u001b[39m\u001b[39mTrue\u001b[39;00m)\n\u001b[0;32m    528\u001b[0m     \u001b[39mreturn\u001b[39;00m \u001b[39mself\u001b[39m\u001b[39m.\u001b[39m_category\n\u001b[1;32m--> 529\u001b[0m \u001b[39mraise\u001b[39;00m \u001b[39mAttributeError\u001b[39;00m(name)\n",
      "\u001b[1;31mAttributeError\u001b[0m: shape"
     ]
    }
   ],
   "source": [
    "# test\n",
    "kp, des = generate_sift_descriptors(wrenches[3]['image'])\n",
    "print(\"Keypoints:\", len(kp), len(des))\n",
    "print(\"Center:\", kp[4].pt)\n",
    "print(\"Vector:\\n\", des[4].reshape(16, -1))"
   ]
  },
  {
   "cell_type": "code",
   "execution_count": null,
   "metadata": {},
   "outputs": [],
   "source": [
    "vectors = []\n",
    "dataset = train\n",
    "categories = list(set([row['label'] for row in dataset]))\n",
    "cat_lookup = dict((c, i) for i, c in enumerate(categories))\n",
    "\n",
    "for i, row in enumerate(tqdm(train)):\n",
    "    idn, img, label = row['id'], row['image'], row['label'] \n",
    "    keypoints, descriptors = generate_sift_descriptors(img)\n",
    "    vectors.append(get_top_descriptors(keypoints, descriptors, 32))"
   ]
  },
  {
   "cell_type": "code",
   "execution_count": null,
   "metadata": {},
   "outputs": [],
   "source": [
    "vectors[10].shape"
   ]
  },
  {
   "cell_type": "code",
   "execution_count": null,
   "metadata": {},
   "outputs": [],
   "source": [
    "%%time\n",
    "from annoy import AnnoyIndex\n",
    "\n",
    "annoy = AnnoyIndex(128, 'euclidean')\n",
    "for i, vectors32 in enumerate(vectors):\n",
    "    for vec in vectors32:\n",
    "        annoy.add_item(i, vec)\n",
    "\n",
    "annoy.build(100, n_jobs=-1)"
   ]
  },
  {
   "cell_type": "markdown",
   "metadata": {},
   "source": [
    "### Implement search function\n",
    "\n",
    "Implement a function which returns `k` besr matching classes (names)."
   ]
  },
  {
   "cell_type": "code",
   "execution_count": null,
   "metadata": {},
   "outputs": [],
   "source": [
    "from collections import Counter\n",
    "\n",
    "def classifier(image, index, k):\n",
    "    keypoints, descriptors = generate_sift_descriptors(image)\n",
    "    vecs = get_top_descriptors(keypoints, descriptors, 32)\n",
    "    \n",
    "    # TODO:\n",
    "    # return the list of ordered pairs,\n",
    "    # contaning similarity and class name\n",
    "    \n",
    "    return counter.most_common(k)\n",
    "\n",
    "\n",
    "\n",
    "print(\"STRAWBERRY\")\n",
    "result = classifier(strawberries[22]['image'], annoy, 10)\n",
    "print(*result, sep='\\n')\n",
    "print()\n",
    "print(\"WRENCH\")\n",
    "result = classifier(wrenches[11]['image'], annoy, 10)\n",
    "print(*result, sep='\\n')"
   ]
  },
  {
   "cell_type": "markdown",
   "metadata": {},
   "source": [
    "**Q**: Before going further, discuss, why SIFT is unsuitable for searching similar things. What is the application area? Is it reliable in this area, and to which extent?\n",
    "\n",
    "\n",
    "# 2. Deep classifiers and Embeddings\n",
    "\n",
    "Based on:\n",
    "- https://www.analyticsvidhya.com/blog/2020/08/top-4-pre-trained-models-for-image-classification-with-python-code/\n",
    "- https://github.com/christiansafka/img2vec\n",
    "- https://github.com/ultralytics/yolov5\n",
    "\n",
    "### Obtain a single label for the image"
   ]
  },
  {
   "cell_type": "code",
   "execution_count": null,
   "metadata": {},
   "outputs": [],
   "source": [
    "!pip install torch torchvision imageio"
   ]
  },
  {
   "cell_type": "code",
   "execution_count": null,
   "metadata": {},
   "outputs": [],
   "source": [
    "import torch\n",
    "# Model\n",
    "model = torch.hub.load('ultralytics/yolov5', 'yolov5s')  # or yolov5m, yolov5l, yolov5x, custom"
   ]
  },
  {
   "cell_type": "code",
   "execution_count": null,
   "metadata": {},
   "outputs": [],
   "source": [
    "from imageio import imread\n",
    "\n",
    "url = 'https://upload.wikimedia.org/wikipedia/commons/thumb/5/5a/Ferry_in_Istanbul_01.JPG/1200px-Ferry_in_Istanbul_01.JPG'\n",
    "im = imread(url)\n",
    "results = model(im)\n",
    "pandas_detections_df = results.pandas().xyxy[0]\n",
    "pandas_detections_df"
   ]
  },
  {
   "cell_type": "code",
   "execution_count": null,
   "metadata": {},
   "outputs": [],
   "source": [
    "results.print()"
   ]
  },
  {
   "cell_type": "markdown",
   "metadata": {},
   "source": [
    "### Compute the classes for the dataset. "
   ]
  },
  {
   "cell_type": "code",
   "execution_count": null,
   "metadata": {},
   "outputs": [],
   "source": [
    "%matplotlib inline\n",
    "\n",
    "for i, row in enumerate(dataset):\n",
    "    if i % 213 != 0: continue\n",
    "    results = model(row['image'])\n",
    "    tag = results.pandas().xyxy[0]['name']\n",
    "    tag = tag[0] if len(tag) else None\n",
    "    cat = row['label']\n",
    "    print(f\"{cat}\\t{tag}\")\n",
    "    plt.figure(figsize=(3,2))\n",
    "    plt.imshow(np.array(row['image']))\n",
    "    plt.show()\n",
    "    print()"
   ]
  },
  {
   "cell_type": "markdown",
   "metadata": {},
   "source": [
    "**Discuss:** \n",
    "- Look at the results. \n",
    "- Can we use this for retrieval in the same way as we used SIFT features? \n",
    "- What if the labels are different from original? What if there are multiple or no labels?\n",
    "\n",
    "## Vector embedding for image"
   ]
  },
  {
   "cell_type": "code",
   "execution_count": null,
   "metadata": {},
   "outputs": [],
   "source": [
    "!pip install img2vec_pytorch Pillow"
   ]
  },
  {
   "cell_type": "code",
   "execution_count": null,
   "metadata": {},
   "outputs": [],
   "source": [
    "from img2vec_pytorch import Img2Vec\n",
    "from PIL import Image\n",
    "\n",
    "url = 'https://upload.wikimedia.org/wikipedia/commons/thumb/5/5a/Ferry_in_Istanbul_01.JPG/1200px-Ferry_in_Istanbul_01.JPG'\n",
    "img = imread(url)\n",
    "\n",
    "# Initialize Img2Vec\n",
    "img2vec = Img2Vec(cuda=False)\n",
    "# some magic with broken Pillow.\n",
    "vector = img2vec.get_vec([Image.fromarray(img)]).reshape(-1)\n",
    "vector.shape"
   ]
  },
  {
   "cell_type": "code",
   "execution_count": null,
   "metadata": {},
   "outputs": [],
   "source": [
    "embedding_vectors = []\n",
    "\n",
    "def get_vectors(images):\n",
    "\n",
    "    # TODO\n",
    "    # return the np.array with the shape of (files x 512)\n",
    "\n",
    "    # some magic with broken pillow\n",
    "    # this should work: img2vec.get_vec([Image.fromarray(np.array(image))])\n",
    "    \n",
    "    return ...\n",
    "\n",
    "sorted_dataset = map(int, np.argsort([row['label'] for row in dataset]))\n",
    "images_sample = [dataset[row]['image'] for i, row in enumerate(sorted_dataset) if i < 200]\n",
    "embedding_vectors = get_vectors(images_sample)"
   ]
  },
  {
   "cell_type": "code",
   "execution_count": null,
   "metadata": {},
   "outputs": [],
   "source": [
    "embedding_vectors.shape"
   ]
  },
  {
   "cell_type": "code",
   "execution_count": null,
   "metadata": {},
   "outputs": [],
   "source": [
    "from sklearn.metrics import pairwise_distances\n",
    "d = pairwise_distances(embedding_vectors, metric='cosine')"
   ]
  },
  {
   "cell_type": "code",
   "execution_count": null,
   "metadata": {},
   "outputs": [],
   "source": [
    "plt.figure(figsize=(10, 10))\n",
    "plt.imshow(d, cmap='RdBu', vmin=0, vmax=1)\n",
    "plt.show()"
   ]
  }
 ],
 "metadata": {
  "kernelspec": {
   "display_name": "Python 3",
   "language": "python",
   "name": "python3"
  },
  "language_info": {
   "codemirror_mode": {
    "name": "ipython",
    "version": 3
   },
   "file_extension": ".py",
   "mimetype": "text/x-python",
   "name": "python",
   "nbconvert_exporter": "python",
   "pygments_lexer": "ipython3",
   "version": "3.10.7"
  }
 },
 "nbformat": 4,
 "nbformat_minor": 4
}
