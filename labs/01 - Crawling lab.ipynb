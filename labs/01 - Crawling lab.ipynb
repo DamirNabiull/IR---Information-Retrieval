{
 "cells": [
  {
   "cell_type": "markdown",
   "id": "f70e56cb-00be-49e1-869a-deac83bac346",
   "metadata": {},
   "source": [
    "# Essential skill for the Internet crawling\n",
    "\n",
    "## Regular expressions\n",
    "\n",
    "Regular expressions (aka regex, regexp) are used to search for patterns. Machine-readable languages often have regualar structure (not always), or at least are non-ambiguous.\n",
    "\n",
    "Obvious way is, of course, to let machine parse the document and then process the result (as in the previous lab). But this often result in additinal depenencies and significant memory and time overhead (which is ok for a single document, but won't work for millions).\n",
    "\n",
    "### Simple examples"
   ]
  },
  {
   "cell_type": "code",
   "execution_count": null,
   "id": "1be93130-a7a5-4f2d-9172-1bccf1d87123",
   "metadata": {},
   "outputs": [
    {
     "name": "stdout",
     "output_type": "stream",
     "text": [
      "\\w+: ['we', 'have', 'only', '5', 'do11ars', 'This', 'amount', 'of', 'is', 'small', 'How', 'should', 'we', 'sur', 'vive']\n",
      "\n",
      "[\\w-]+: ['we', 'have', 'only', '5', 'do11ars', 'This', 'amount', 'of', 'is', 'small', 'How', 'should', 'we', 'sur-vive']\n",
      "\n",
      "[a-zA-Z0-9-]+: ['we', 'have', 'only', '5', 'do11ars', 'This', 'amount', 'of', 'is', 'small', 'How', 'should', 'we', 'sur-vive']\n",
      "\n",
      ".+: ['we have only 5 do11ars. This amount of $ is small. How should we sur-vive?']\n",
      "\n",
      "\\S+: ['we', 'have', 'only', '5', 'do11ars.', 'This', 'amount', 'of', '$', 'is', 'small.', 'How', 'should', 'we', 'sur-vive?']\n",
      "\n",
      "\\W+[a-z]+\\-[a-z]+.$: [' sur-vive?']\n"
     ]
    }
   ],
   "source": [
    "import re\n",
    "string = \"we have only 5 do11ars. This amount of $ is small. How should we sur-vive?\"\n",
    "\n",
    "# all alphanumerics\n",
    "pattern = '\\w+'\n",
    "print(pattern, end=\": \")\n",
    "print(re.findall(pattern, string))\n",
    "print()\n",
    "\n",
    "# all alphanumerics but also with hyphen\n",
    "pattern = '[\\w-]+'\n",
    "print(pattern, end=\": \")\n",
    "print(re.findall(pattern, string))\n",
    "print()\n",
    "\n",
    "# the same but using explicit character enumeration\n",
    "pattern = '[a-zA-Z0-9-]+'\n",
    "print(pattern, end=\": \")\n",
    "print(re.findall(pattern, string))\n",
    "print()\n",
    "\n",
    "# any symbol\n",
    "pattern = '.+'\n",
    "print(pattern, end=\": \")\n",
    "print(re.findall(pattern, string))\n",
    "print()\n",
    "\n",
    "# non-spaces, not the same as \\w!\n",
    "pattern = '\\S+'\n",
    "print(pattern, end=\": \")\n",
    "print(re.findall(pattern, string))\n",
    "print()\n",
    "\n",
    "\n",
    "# discuss this pattern. Which elements are used here?\n",
    "pattern = \"\\W+[a-z]+\\-[a-z]+.$\"\n",
    "print(pattern, end=\": \")\n",
    "print(re.findall(pattern, string))"
   ]
  },
  {
   "cell_type": "markdown",
   "id": "cbd60467-c31a-4977-af18-a77862cf60aa",
   "metadata": {},
   "source": [
    "### Find URLs/URIs vs parse the doc\n",
    "\n",
    "Instead of building DOM model and extracting `href` and `src` attributes, you may rely on the structure of the url itself. Extact all URLs from [the page](https://math.stackexchange.com/questions/411486/understanding-the-singular-value-decomposition-svd) with regexp. You major tool is [re.findall(...)](https://docs.python.org/3/library/re.html#). You may also be interested in compiled regular rexpression (if you reuse one)."
   ]
  },
  {
   "cell_type": "code",
   "execution_count": null,
   "id": "a6312c41-143c-4d38-af65-0ad9652caab7",
   "metadata": {},
   "outputs": [
    {
     "name": "stdout",
     "output_type": "stream",
     "text": [
      "\n",
      "(?:([A-Za-z]+):)?(\\/{0,3})([0-9.\\-A-Za-z]+)(?::(\\d+))?(?:\\/([^?#]*))?(?:\\?([^#]*))?(?:#(.*))?\n",
      "[('', '', 'DOCTYPE', '', '', '', ''), ('', '', 'html', '', '', '', ''), ('', '', 'html', '', '', '', ''), ('', '', 'itemscope', '', '', '', ''), ('', '', 'itemtype', '', '', '', ''), ('https', '//', 'schema.org', '', 'QAPage\" class=\"html__responsive \" lang=\"en\">\\r\\n\\r\\n    <head>\\r\\n\\r\\n        <title>linear algebra - Understanding the singular value decomposition (SVD) - Mathematics Stack Exchange</title>\\r\\n        <link rel=\"shortcut icon\" href=\"https://cdn.sstatic.net/Sites/math/Img/favicon.ico', 'v=92addaa54d18\">\\r\\n        <link rel=\"apple-touch-icon\" href=\"https://cdn.sstatic.net/Sites/math/Img/apple-touch-icon.png?v=0ae50baa40ed\">\\r\\n        <link rel=\"image_src\" href=\"https://cdn.sstatic.net/Sites/math/Img/apple-touch-icon.png?v=0ae50baa40ed\"> \\r\\n        <link rel=\"search\" type=\"application/opensearchdescription+xml\" title=\"Mathematics Stack Exchange\" href=\"/opensearch.xml\">\\r\\n        <link rel=\"canonical\" href=\"https://math.stackexchange.com/questions/411486/understanding-the-singular-value-decomposition-svd\" />\\r\\n    <meta name=\"viewport\" content=\"width=device-width, height=device-height, initial-scale=1.0, minimum-scale=1.0\">\\r\\n        <meta property=\"og:type\" content= \"website\" />\\r\\n        <meta property=\"og:url\" content=\"https://math.stackexchange.com/questions/411486/understanding-the-singular-value-decomposition-svd\"/>\\r\\n        <meta property=\"og:site_name\" content=\"Mathematics Stack Exchange\" />\\r\\n        <meta property=\"og:image\" itemprop=\"image primaryImageOfPage\" content=\"https://cdn.sstatic.net/Sites/math/Img/apple-touch-icon@2.png?v=4ec1df2e49b1\" />\\r\\n        <meta name=\"twitter:card\" content=\"summary\"/>\\r\\n        <meta name=\"twitter:domain\" content=\"math.stackexchange.com\"/>\\r\\n        <meta name=\"twitter:site\" content=\"@StackMath\" />\\r\\n        <meta name=\"twitter:creator\" content=\"@StackMath\" />\\r\\n        <meta name=\"twitter:title\" property=\"og:title\" itemprop=\"name\" content=\"Understanding the singular value decomposition (SVD)\" />\\r\\n        <meta name=\"twitter:description\" property=\"og:description\" itemprop=\"description\" content=\"Please, would someone be so kind and explain what exactly happens when Singular Value Decomposition is applied on a matrix? What are singular values, left singular, and right singular vectors? I know \" />\\r\\n    <script id=\"webpack-public-path\" type=\"text/uri-list\">https://cdn.sstatic.net/</script>\\r\\n    <script src=\"https://ajax.googleapis.com/ajax/libs/jquery/1.12.4/jquery.min.js\"></script>\\r\\n    <script defer src=\"https://cdn.sstatic.net/Js/third-party/npm/@stackoverflow/stacks/dist/js/stacks.min.js?v=9bc856be1b3a\"></script>\\r\\n    <script src=\"https://cdn.sstatic.net/Js/stub.en.js?v=cb2c416fc3c2\"></script>\\r\\n\\r\\n\\r\\n    <link rel=\"stylesheet\" type=\"text/css\" href=\"https://cdn.sstatic.net/Shared/stacks.css?v=cb9621e41d1f\">\\r\\n    <link rel=\"stylesheet\" type=\"text/css\" href=\"https://cdn.sstatic.net/Sites/math/primary.css?v=19cbc70ffa04\">\\r\\n\\r\\n\\r\\n    \\r\\n            <link rel=\"alternate\" type=\"application/atom+xml\" title=\"Feed for question &', 'x27;Understanding the singular value decomposition (SVD)&#x27;\" href=\"/feeds/question/411486\">\\r'), ('', '', 'meta', '', '', '', ''), ('', '', 'name', '', '', '', ''), ('twitter', '', 'app', '', '', '', ''), ('', '', 'country', '', '', '', '')]\n",
      "\n",
      "(www|http:|https:)+[^\\s]+[\\w]\n",
      "['https:', 'https:', 'https:', 'https:', 'https:', 'https:', 'https:', 'https:', 'https:', 'https:']\n",
      "\n",
      "https?:\\/\\/(www\\.)?[-a-zA-Z0-9@:%._\\+~#=]{1,256}\\.[a-zA-Z0-9()]{1,6([-a-zA-Z0-9()@:%_\\+.~#?&//=]*)\n",
      "[]\n",
      "\n",
      "[-a-zA-Z0-9@:%._\\+~#=]{1,256}\\.[a-zA-Z0-9()]{1,6([-a-zA-Z0-9()@:%_\\+.~#?&//=]*)?\n",
      "[]\n",
      "\n",
      "(https?:\\/\\/(?:www\\.|(?!www))[a-zA-Z0-9][a-zA-Z0-9-]+[a-zA-Z0-9]\\.[^\\s]{2,}|www\\.[a-zA-Z0-9][a-zA-Z0-9-]+[a-zA-Z0-9]\\.[^\\s]{2,}|https?:\\/\\/(?:www\\.|(?!www))[a-zA-Z0-9]+\\.[^\\s]{2,}|www\\.[a-zA-Z0-9]+\\.[^\\s]{2,})\n",
      "['https://schema.org/QAPage\"', 'https://cdn.sstatic.net/Sites/math/Img/favicon.ico?v=92addaa54d18\">', 'https://cdn.sstatic.net/Sites/math/Img/apple-touch-icon.png?v=0ae50baa40ed\">', 'https://cdn.sstatic.net/Sites/math/Img/apple-touch-icon.png?v=0ae50baa40ed\">', 'https://math.stackexchange.com/questions/411486/understanding-the-singular-value-decomposition-svd\"', 'https://math.stackexchange.com/questions/411486/understanding-the-singular-value-decomposition-svd\"/>', 'https://cdn.sstatic.net/Sites/math/Img/apple-touch-icon@2.png?v=4ec1df2e49b1\"', 'https://cdn.sstatic.net/</script>', 'https://ajax.googleapis.com/ajax/libs/jquery/1.12.4/jquery.min.js\"></script>', 'https://cdn.sstatic.net/Js/third-party/npm/@stackoverflow/stacks/dist/js/stacks.min.js?v=9bc856be1b3a\"></script>']\n",
      "\n",
      "(?!mailto:)(?:(?:http|https|ftp)://)(?:\\S+(?::\\S*)?@)?(?:(?:(?:[1-9]\\d?|1\\d\\d|2[01]\\d|22[0-3])(?:\\.(?:1?\\d{1,2}|2[0-4]\\d|25[0-5])){2}(?:\\.(?:[0-9]\\d?|1\\d\\d|2[0-4]\\d|25[0-4]))|(?:(?:[a-z\\u00a1-\\uffff0-9]+-?)*[a-z\\u00a1-\\uffff0-9]+)(?:\\.(?:[a-z\\u00a1-\\uffff0-9]+-?)*[a-z\\u00a1-\\uffff0-9]+)*(?:\\.(?:[a-z\\u00a1-\\uffff]{2,})))|localhost)(?::\\d{2,5})?(?:(/|\\?|#)[^\\s]*)?\n",
      "['/', '/', '/', '/', '/', '/', '?', '/', '/', '/']\n",
      "\n",
      "https?:\\/\\/(?:www\\.)?[-a-zA-Z0-9@:%._\\+~#=]{1,256}\\.[a-zA-Z0-9()]{1,6(?:[-a-zA-Z0-9()@:%_\\+.~#?&\\/=]*)\n",
      "[]\n"
     ]
    }
   ],
   "source": [
    "import re\n",
    "import requests\n",
    "\n",
    "url = \"https://math.stackexchange.com/questions/\"\\\n",
    "        \"411486/understanding-the-singular-value-decomposition-svd\"\n",
    "\n",
    "text = requests.get(url).text\n",
    "\n",
    "# my inspiration - \n",
    "# I took some example URL regexp from the internet, \n",
    "# specifically from here:\n",
    "# https://stackoverflow.com/questions/3809401/what-is-a-good-regular-expression-to-match-a-url\n",
    "expressions = [\n",
    "    \"(?:([A-Za-z]+):)?(\\/{0,3})([0-9.\\-A-Za-z]+)(?::(\\d+))?(?:\\/([^?#]*))?(?:\\?([^#]*))?(?:#(.*))?\",\n",
    "    \"(www|http:|https:)+[^\\s]+[\\w]\",\n",
    "    \"https?:\\/\\/(www\\.)?[-a-zA-Z0-9@:%._\\+~#=]{1,256}\\.[a-zA-Z0-9()]{1,6}\\b([-a-zA-Z0-9()@:%_\\+.~#?&//=]*)\",\n",
    "    \"[-a-zA-Z0-9@:%._\\+~#=]{1,256}\\.[a-zA-Z0-9()]{1,6}\\b([-a-zA-Z0-9()@:%_\\+.~#?&//=]*)?\",\n",
    "    \"(https?:\\/\\/(?:www\\.|(?!www))[a-zA-Z0-9][a-zA-Z0-9-]+[a-zA-Z0-9]\\.[^\\s]{2,}|www\\.[a-zA-Z0-9][a-zA-Z0-9-]+[a-zA-Z0-9]\\.[^\\s]{2,}|https?:\\/\\/(?:www\\.|(?!www))[a-zA-Z0-9]+\\.[^\\s]{2,}|www\\.[a-zA-Z0-9]+\\.[^\\s]{2,})\",\n",
    "    \"(?!mailto:)(?:(?:http|https|ftp)://)(?:\\\\S+(?::\\\\S*)?@)?(?:(?:(?:[1-9]\\\\d?|1\\\\d\\\\d|2[01]\\\\d|22[0-3])(?:\\\\.(?:1?\\\\d{1,2}|2[0-4]\\\\d|25[0-5])){2}(?:\\\\.(?:[0-9]\\\\d?|1\\\\d\\\\d|2[0-4]\\\\d|25[0-4]))|(?:(?:[a-z\\\\u00a1-\\\\uffff0-9]+-?)*[a-z\\\\u00a1-\\\\uffff0-9]+)(?:\\\\.(?:[a-z\\\\u00a1-\\\\uffff0-9]+-?)*[a-z\\\\u00a1-\\\\uffff0-9]+)*(?:\\\\.(?:[a-z\\\\u00a1-\\\\uffff]{2,})))|localhost)(?::\\\\d{2,5})?(?:(/|\\\\?|#)[^\\\\s]*)?\",\n",
    "    \"https?:\\/\\/(?:www\\.)?[-a-zA-Z0-9@:%._\\+~#=]{1,256}\\.[a-zA-Z0-9()]{1,6}\\b(?:[-a-zA-Z0-9()@:%_\\+.~#?&\\/=]*)\",\n",
    "]\n",
    "\n",
    "for expression in expressions:\n",
    "    print()\n",
    "    pattern = re.compile(expression)\n",
    "    urls = pattern.findall(text)\n",
    "    print(expression)\n",
    "    print(urls[:10])"
   ]
  },
  {
   "cell_type": "markdown",
   "id": "63197434-4483-4d3c-ae0f-0dfb91f396b7",
   "metadata": {},
   "source": [
    "Was this success? \n",
    "\n",
    "Compose your own minimalistic:"
   ]
  },
  {
   "cell_type": "code",
   "execution_count": null,
   "id": "d2055e8c-20d1-4cfe-9229-0f22a24183fb",
   "metadata": {},
   "outputs": [
    {
     "name": "stdout",
     "output_type": "stream",
     "text": [
      "['https://schema.org/QAPage', 'https://cdn.sstatic.net/Sites/math/Img/favicon.ico?v=92addaa54d18', 'https://cdn.sstatic.net/Sites/math/Img/apple-touch-icon.png?v=0ae50baa40ed', 'https://cdn.sstatic.net/Sites/math/Img/apple-touch-icon.png?v=0ae50baa40ed', 'https://math.stackexchange.com/questions/411486/understanding-the-singular-value-decomposition-svd', 'https://math.stackexchange.com/questions/411486/understanding-the-singular-value-decomposition-svd', 'https://cdn.sstatic.net/Sites/math/Img/apple-touch-icon', 'https://cdn.sstatic.net/', 'https://ajax.googleapis.com/ajax/libs/jquery/1.12.4/jquery.min.js', 'https://cdn.sstatic.net/Js/third-party/npm/', 'https://cdn.sstatic.net/Js/stub.en.js?v=cb2c416fc3c2', 'https://cdn.sstatic.net/Shared/stacks.css?v=cb9621e41d1f', 'https://cdn.sstatic.net/Sites/math/primary.css?v=19cbc70ffa04', 'https://math.stackexchange.com/questions/411486/understanding-the-singular-value-decomposition-svd', 'https://cdn.sstatic.net/Shared/Channels/channels.css?v=a5fae8812988', 'https://cdn.sstatic.net/Js/third-party/citation-helper.js?v=2591ce444a3f', 'https://cdnjs.cloudflare.com/ajax/libs/mathjax/2.7.5/MathJax.js?config=TeX', 'https://stackauth.com', 'https://math.meta.stackexchange.com', 'https://cdn.sstatic.net/Img/stacks-icons']\n",
      "151\n"
     ]
    }
   ],
   "source": [
    "import re\n",
    "import requests\n",
    "\n",
    "url = \"https://math.stackexchange.com/questions/\"\\\n",
    "        \"411486/understanding-the-singular-value-decomposition-svd\"\n",
    "\n",
    "text = requests.get(url).text\n",
    "\n",
    "protocol = \"https?://\"\n",
    "domain = \"[\\w\\.-]+\"\n",
    "path = \"[/\\w\\-\\.]*\"\n",
    "args =  \"\\??[\\w&=]*\"\n",
    "hashtail = \"(?:#[\\w$%-_;]+)?\"\n",
    "\n",
    "expression = protocol + domain + path + args + hashtail\n",
    "pattern = re.compile(expression)\n",
    "regexp_urls = pattern.findall(text)\n",
    "print(regexp_urls[:20])\n",
    "print(len(regexp_urls))"
   ]
  },
  {
   "cell_type": "markdown",
   "id": "d2174daf-3ea2-4622-89d2-751aed1e29b9",
   "metadata": {},
   "source": [
    "# Streams and files\n",
    "\n",
    "When you deal with the big files you should take care about the RAM. Today 1GB won't suprise anyone on the desktop, but server machines, which implement crawlers, may be optimized for the resource.\n",
    "\n",
    "Using streams instead of RAM-cached files is a good strategy.\n",
    "\n",
    "- Look for solution here: https://stackoverflow.com/a/16696317\n",
    "- Look for the sample big file here: http://xcal1.vodafone.co.uk/\n",
    "- Read about python memory measurement here: https://pythonspeed.com/articles/measuring-memory-python/"
   ]
  },
  {
   "cell_type": "code",
   "execution_count": null,
   "id": "c819e5ad-2c3e-43b1-a45c-2c1db556e4d9",
   "metadata": {},
   "outputs": [],
   "source": [
    "import psutil, gc \n",
    "\n",
    "def get_mem():\n",
    "    return psutil.Process().memory_info().rss"
   ]
  },
  {
   "cell_type": "code",
   "execution_count": null,
   "id": "3d45cfdf-661e-47bb-a2c1-336b7d091a53",
   "metadata": {},
   "outputs": [],
   "source": [
    "large_file_url = \"http://212.183.159.230/100MB.zip\""
   ]
  },
  {
   "cell_type": "markdown",
   "id": "5c447d2f-383b-4d5e-ad83-67feab474dec",
   "metadata": {},
   "source": [
    "First, download the file as you would do it simple way:"
   ]
  },
  {
   "cell_type": "code",
   "execution_count": null,
   "id": "77d31dd2-b334-4d77-820e-ed78b81ad5c4",
   "metadata": {},
   "outputs": [
    {
     "name": "stdout",
     "output_type": "stream",
     "text": [
      "Resident set size: 82198528\n",
      "Resident set size: 184856576\n",
      "Resident set size: 184860672\n",
      "Resident set size: 79998976\n"
     ]
    }
   ],
   "source": [
    "gc.collect()\n",
    "print(\"Resident set size:\", get_mem())\n",
    "data = requests.get(large_file_url).content\n",
    "print(\"Resident set size:\", get_mem())\n",
    "\n",
    "with open('100-RAM', 'wb') as f:\n",
    "    f.write(data)\n",
    "\n",
    "print(\"Resident set size:\", get_mem())\n",
    "data = None\n",
    "gc.collect()\n",
    "print(\"Resident set size:\", get_mem())"
   ]
  },
  {
   "cell_type": "markdown",
   "id": "05ad622c-6821-467d-8f9d-6269fed14097",
   "metadata": {},
   "source": [
    "And then use the streaming mode of the `requests` library."
   ]
  },
  {
   "cell_type": "code",
   "execution_count": 2,
   "id": "0f20b4eb-a60c-4be1-910e-c029bdf4cb2c",
   "metadata": {},
   "outputs": [
    {
     "ename": "NameError",
     "evalue": "name 'gc' is not defined",
     "output_type": "error",
     "traceback": [
      "\u001b[1;31m---------------------------------------------------------------------------\u001b[0m",
      "\u001b[1;31mNameError\u001b[0m                                 Traceback (most recent call last)",
      "Cell \u001b[1;32mIn[2], line 16\u001b[0m\n\u001b[0;32m     13\u001b[0m                 f\u001b[39m.\u001b[39mwrite(chunk)\n\u001b[0;32m     14\u001b[0m     \u001b[39mreturn\u001b[39;00m local_filename\n\u001b[1;32m---> 16\u001b[0m gc\u001b[39m.\u001b[39mcollect()\n\u001b[0;32m     17\u001b[0m \u001b[39mprint\u001b[39m(\u001b[39m\"\u001b[39m\u001b[39mResident set size:\u001b[39m\u001b[39m\"\u001b[39m, get_mem())\n\u001b[0;32m     18\u001b[0m download_file(large_file_url, \u001b[39m\"\u001b[39m\u001b[39m100-stream\u001b[39m\u001b[39m\"\u001b[39m)\n",
      "\u001b[1;31mNameError\u001b[0m: name 'gc' is not defined"
     ]
    }
   ],
   "source": [
    "import requests\n",
    "import shutil\n",
    "\n",
    "def download_file(url, destination):\n",
    "    local_filename = url.split('/')[-1]\n",
    "    with requests.get(url, stream=True) as r:\n",
    "        r.raise_for_status()\n",
    "        with open(destination, 'wb') as f:\n",
    "            for chunk in r.iter_content(chunk_size=8192): \n",
    "                # If you have chunk encoded response uncomment if\n",
    "                # and set chunk_size parameter to None.\n",
    "                #if chunk: \n",
    "                f.write(chunk)\n",
    "    return local_filename\n",
    "\n",
    "gc.collect()\n",
    "print(\"Resident set size:\", get_mem())\n",
    "download_file(large_file_url, \"100-stream\")\n",
    "print(\"Resident set size:\", get_mem())"
   ]
  },
  {
   "cell_type": "markdown",
   "id": "b02814d2-da81-40c6-baa2-a1453626df3a",
   "metadata": {},
   "source": [
    "# BeautifulSoup\n",
    "\n",
    "Plain text HTML is a mixture of content, markup, and code. Extracting structure, or URLs, or plain text might be tricky with regular expressions. \n",
    "\n",
    "Building a DOM model is slow, but may save a lot of code and keep you from mistakes.\n",
    "\n",
    "## Extract all sentences\n",
    "For indexing and semantic analysis we use different granularity. Often sentence is a good choice. "
   ]
  },
  {
   "cell_type": "code",
   "execution_count": 4,
   "id": "3521ce6d",
   "metadata": {},
   "outputs": [
    {
     "name": "stderr",
     "output_type": "stream",
     "text": [
      "[nltk_data] Downloading package punkt to\n",
      "[nltk_data]     C:\\Users\\Damir\\AppData\\Roaming\\nltk_data...\n",
      "[nltk_data]   Unzipping tokenizers\\punkt.zip.\n"
     ]
    },
    {
     "data": {
      "text/plain": [
       "True"
      ]
     },
     "execution_count": 4,
     "metadata": {},
     "output_type": "execute_result"
    }
   ],
   "source": [
    "import nltk\n",
    "nltk.download('punkt')"
   ]
  },
  {
   "cell_type": "code",
   "execution_count": 6,
   "id": "186a793c-39ea-463d-8106-b719e4de3e33",
   "metadata": {},
   "outputs": [
    {
     "name": "stdout",
     "output_type": "stream",
     "text": [
      "[['$\\\\begingroup$'], ['See  stats.stackexchange.com/questions/177102/…'], ['$\\\\endgroup$'], ['–\\xa0kjetil b halvorsen'], ['Nov 3, 2015 at 19:58'], ['$\\\\begingroup$'], [\"I wrote an explanation of the SVD here: stats.stackexchange.com/a/403924/43159 If $A$ is a real $m \\\\times n$ matrix, it's natural to ask in which direction $v$ does $A$ have the most amplifying power.\", 'So, we define $v_1$ to be the unit vector $v$ that maximizes $\\\\| Av \\\\|$.', 'This direction $v_1$ is the most important direction for understanding $A$.', 'The next most important direction $v_2$ is the unit vector that maximizes $\\\\| Av \\\\|$ subject to the constraint that $v$ is orthogonal to $v_1$.', 'Continuing like this, this thought process leads directly to the SVD of $A$.'], ['$\\\\endgroup$'], ['–\\xa0littleO'], ['Jan 12, 2021 at 10:48']]\n"
     ]
    }
   ],
   "source": [
    "from bs4 import BeautifulSoup\n",
    "from bs4.element import Comment\n",
    "from nltk import tokenize\n",
    "\n",
    "doc_url = \"https://math.stackexchange.com/questions/\"\\\n",
    "        \"411486/understanding-the-singular-value-decomposition-svd\"\n",
    "\n",
    "text = requests.get(doc_url).text\n",
    "dom = BeautifulSoup(text)\n",
    "paragraphs = [p.strip() for p in dom.text.split('\\n') if p.strip()]\n",
    "\n",
    "sents = []\n",
    "for p in paragraphs:\n",
    "    sents.append(tokenize.sent_tokenize(p))\n",
    "    \n",
    "print(sents[90:100])"
   ]
  },
  {
   "cell_type": "markdown",
   "id": "8ead20dc-0608-4dde-a34a-3663692c9c6c",
   "metadata": {},
   "source": [
    "# Extract URLs from nodes\n",
    "\n",
    "Be careful with relative links. How would you process them?"
   ]
  },
  {
   "cell_type": "code",
   "execution_count": 8,
   "id": "33586e48-d334-4641-9d37-a24894026b86",
   "metadata": {},
   "outputs": [
    {
     "data": {
      "text/plain": [
       "['https://scifi.stackexchange.com/questions/271598/what-popularized-the-idea-of-aliens-having-a-pair-of-antennae-on-their-heads',\n",
       " 'https://www.heavisidesdinner.com/LTFMfigures/LTFM_figures.html',\n",
       " 'https://stackoverflow.com/legal/cookie-policy',\n",
       " 'https://math.stackexchange.com/posts/3242024/timeline',\n",
       " 'https://scifi.stackexchange.com/questions/271690/whats-the-mythological-boss-monster-from-the-battle-of-the-labyrinth',\n",
       " 'https://matheducators.stackexchange.com/questions/26062/should-math-for-elementary-teachers-content-be-taught-under-the-direction-of-the',\n",
       " 'https://i.stack.imgur.com/hyhm2.png',\n",
       " 'https://math.stackexchange.com/help',\n",
       " 'https://math.stackexchange.com/q/4315564',\n",
       " 'https://math.stackexchange.com/posts/3456462/timeline']"
      ]
     },
     "execution_count": 8,
     "metadata": {},
     "output_type": "execute_result"
    }
   ],
   "source": [
    "import urllib.parse\n",
    "\n",
    "all_hrefs = dom.find_all('a', href=True)\n",
    "all_urls = set()\n",
    "\n",
    "for a in all_hrefs:\n",
    "    url = a['href']\n",
    "    if url.startswith('/'):\n",
    "        url = urllib.parse.urljoin(doc_url, url)\n",
    "    all_urls.add(url)\n",
    "\n",
    "all_urls = list(all_urls)\n",
    "all_urls[:10]"
   ]
  },
  {
   "cell_type": "markdown",
   "id": "f9951d22-ec99-4d13-ad47-38d35d388827",
   "metadata": {},
   "source": [
    "Discuss the next result:"
   ]
  },
  {
   "cell_type": "code",
   "execution_count": 9,
   "id": "ec65f900-3a74-4664-8b38-301f7c292649",
   "metadata": {},
   "outputs": [
    {
     "ename": "NameError",
     "evalue": "name 'regexp_urls' is not defined",
     "output_type": "error",
     "traceback": [
      "\u001b[1;31m---------------------------------------------------------------------------\u001b[0m",
      "\u001b[1;31mNameError\u001b[0m                                 Traceback (most recent call last)",
      "Cell \u001b[1;32mIn[9], line 1\u001b[0m\n\u001b[1;32m----> 1\u001b[0m \u001b[39mprint\u001b[39m(\u001b[39m\"\u001b[39m\u001b[39m|DOM ∩ REGX| =\u001b[39m\u001b[39m\"\u001b[39m, \u001b[39mlen\u001b[39m(\u001b[39mset\u001b[39m(all_urls) \u001b[39m&\u001b[39m \u001b[39mset\u001b[39m(regexp_urls)))\n\u001b[0;32m      2\u001b[0m \u001b[39mprint\u001b[39m(\u001b[39m\"\u001b[39m\u001b[39m|DOM \u001b[39m\u001b[39m\\\u001b[39m\u001b[39m REGX| =\u001b[39m\u001b[39m\"\u001b[39m, \u001b[39mlen\u001b[39m(\u001b[39mset\u001b[39m(all_urls) \u001b[39m-\u001b[39m \u001b[39mset\u001b[39m(regexp_urls)))\n\u001b[0;32m      3\u001b[0m \u001b[39mprint\u001b[39m(\u001b[39m\"\u001b[39m\u001b[39m|REGX \u001b[39m\u001b[39m\\\u001b[39m\u001b[39m DOM| =\u001b[39m\u001b[39m\"\u001b[39m, \u001b[39mlen\u001b[39m(\u001b[39mset\u001b[39m(regexp_urls) \u001b[39m-\u001b[39m \u001b[39mset\u001b[39m(all_urls)))\n",
      "\u001b[1;31mNameError\u001b[0m: name 'regexp_urls' is not defined"
     ]
    }
   ],
   "source": [
    "print(\"|DOM ∩ REGX| =\", len(set(all_urls) & set(regexp_urls)))\n",
    "print(\"|DOM \\ REGX| =\", len(set(all_urls) - set(regexp_urls)))\n",
    "print(\"|REGX \\ DOM| =\", len(set(regexp_urls) - set(all_urls)))"
   ]
  },
  {
   "cell_type": "markdown",
   "id": "9a6bb8ed-9a9b-44db-bb97-9ef6cfe69b97",
   "metadata": {},
   "source": [
    "# Unique file name\n",
    "\n",
    "Please, never try to convert a domain (`google.com`), or a path component (`/index.php`) into a filename. They are not unique!\n",
    "\n",
    "Also, better not to try to substitute sensitive symbols of the full URL (`/:`...) -- you will definitely forget one. Also, you may easily overflow file name.\n",
    "\n",
    "Nice way is to use hash strings with fixed length and character set. Compute hash strings from the previous list."
   ]
  },
  {
   "cell_type": "code",
   "execution_count": 11,
   "id": "83ab186e-d4e0-4612-a4f4-be7eadae4d47",
   "metadata": {},
   "outputs": [
    {
     "name": "stdout",
     "output_type": "stream",
     "text": [
      "b92713467a3c862215e3c7d000aa747e9459e49c https://scifi.s...-on-their-heads\n",
      "0661e3c018e129e05562dd991f2dc65cb61707f9 https://www.hea...FM_figures.html\n",
      "9ba4f934616ff6557b08b075b4e65e766a5fa4f8 https://stackov...l/cookie-policy\n",
      "563a7e7dd58b7d8804cacb267ac004ed8f1aef31 https://math.st...242024/timeline\n",
      "453cd9f724d16b5c76d3c6f41eacdf5383f53587 https://scifi.s...f-the-labyrinth\n",
      "03714d9f16d62ac3f11b360ddbc4b2236e1795a6 https://mathedu...irection-of-the\n",
      "c2974126cd76ba020f56fd1f367dfa2b71acb286 https://i.stack...r.com/hyhm2.png\n",
      "deb9c126a5ea5af9b0ba7aed50362235bc02b83e https://math.st...change.com/help\n",
      "7d3b710ed61c8572eafac078bdd68943ece939c1 https://math.st...e.com/q/4315564\n",
      "0133a9243e5d14c5999958a9091434887f5c9cf6 https://math.st...456462/timeline\n",
      "1fc7415c80b8d32d76d515389e0c3f963f0e8fed https://math.st...ckexchange.com/\n",
      "4a7a24942d1095cbaefcb03ab69105664e6e10fb https://stackex...ites#technology\n",
      "69dda2485337ccdb98f98c9308824d995f748a6a https://math.st...masz-bartkowiak\n",
      "eafda70dedbd519897835a8ac90294bcf97f179f https://math.st...e.com/a/3456431\n",
      "da46726ebfcd412c643f37853ee3de417c5aad8e https://math.st...bart-vanderbeke\n",
      "f3b76972e553d984ad8f330f6319067a30907229 https://math.st...ge.com/q/411486\n",
      "bdd6128888c6b42793f4b7d02c9b8d774d5d6213 https://worldbu...-a-career-in-th\n",
      "52268fea4169df93b9c8f0eb65acb2e8fb80ce26 https://math.st...change.com/tags\n",
      "24960c512f0ff11649dcd3f7372427f2d95a50f0 https://math.st...rs/38053/julien\n",
      "6488dda00987c08144f0ce564c19cd97977362e4 https://math.st...42024/revisions\n"
     ]
    }
   ],
   "source": [
    "import hashlib\n",
    "\n",
    "for url in all_urls[:20]:\n",
    "    s = hashlib.sha1(url.encode('utf-8')).hexdigest()\n",
    "    print(s, url[:15] + \"...\" + url[-15:])"
   ]
  }
 ],
 "metadata": {
  "kernelspec": {
   "display_name": "Python 3",
   "language": "python",
   "name": "python3"
  },
  "language_info": {
   "codemirror_mode": {
    "name": "ipython",
    "version": 3
   },
   "file_extension": ".py",
   "mimetype": "text/x-python",
   "name": "python",
   "nbconvert_exporter": "python",
   "pygments_lexer": "ipython3",
   "version": "3.10.7"
  },
  "vscode": {
   "interpreter": {
    "hash": "d6a080e79ab919cc29f413f5fcdf6fd20b8290010ecc9282aed9e0af19543a06"
   }
  }
 },
 "nbformat": 4,
 "nbformat_minor": 5
}
